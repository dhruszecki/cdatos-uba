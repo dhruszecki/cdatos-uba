{
  "nbformat": 4,
  "nbformat_minor": 0,
  "metadata": {
    "anaconda-cloud": {},
    "kernelspec": {
      "display_name": "Python [conda env:BayesP3]",
      "language": "python",
      "name": "conda-env-BayesP3-py"
    },
    "language_info": {
      "codemirror_mode": {
        "name": "ipython",
        "version": 3
      },
      "file_extension": ".py",
      "mimetype": "text/x-python",
      "name": "python",
      "nbconvert_exporter": "python",
      "pygments_lexer": "ipython3",
      "version": "3.6.6"
    },
    "colab": {
      "name": "2. Cadenas, tuplas y diccionarios.ipynb",
      "provenance": [],
      "collapsed_sections": [
        "RK7tbTv20WYq",
        "yLMMzV840WYw",
        "S59ILV5F0WYy",
        "tfrurJW10WZI",
        "HBDrYlbm0WZX",
        "xyzgPmLA0WZ4",
        "RluB1fip0WZ4",
        "GMVbvSbj0WZ6",
        "2vSXWBRW0WZ9"
      ]
    }
  },
  "cells": [
    {
      "cell_type": "markdown",
      "metadata": {
        "id": "DhN4iEDH0WX-",
        "colab_type": "text"
      },
      "source": [
        "# Cadenas o strings\n",
        "\n",
        "En Python las cadenas son definidas como listas de caracteres, por lo que es posible aplicarles las operaciones que vimos en la sección anterior.\n",
        "\n",
        "Una cadena se puede formar usando comillas dobles o sencillas, de la siguiente manera:"
      ]
    },
    {
      "cell_type": "code",
      "metadata": {
        "id": "EhU40Fn_0WX_",
        "colab_type": "code",
        "colab": {}
      },
      "source": [
        "fruta = \"banano\""
      ],
      "execution_count": 0,
      "outputs": []
    },
    {
      "cell_type": "code",
      "metadata": {
        "id": "i_S0vdyU0WYD",
        "colab_type": "code",
        "colab": {}
      },
      "source": [
        "dulce = 'bocadillo'"
      ],
      "execution_count": 0,
      "outputs": []
    },
    {
      "cell_type": "markdown",
      "metadata": {
        "id": "Z2ZZsEQk0WYG",
        "colab_type": "text"
      },
      "source": [
        "En este caso, los operadores + y * dan los siguientes resultados:\n",
        "\n",
        "| Operación | Uso             | Resultado                                         \n",
        "| --------- | --------------- | --------- \n",
        "|    +      | cadena + cadena | Une dos cadenas                                   \n",
        "|    \\*     | cadena * número | Repite una cadena tantas veces como sea el número \n",
        "\n",
        "Con las dos variables arriba definidas podemos realizar, por ejemplo, las\n",
        "siguientes operaciones:"
      ]
    },
    {
      "cell_type": "code",
      "metadata": {
        "id": "MoRQlJHx0WYH",
        "colab_type": "code",
        "outputId": "0295f2de-3256-4e2f-d853-9b66132b4fee",
        "colab": {
          "base_uri": "https://localhost:8080/",
          "height": 34
        }
      },
      "source": [
        "fruta + dulce"
      ],
      "execution_count": 0,
      "outputs": [
        {
          "output_type": "execute_result",
          "data": {
            "text/plain": [
              "'bananobocadillo'"
            ]
          },
          "metadata": {
            "tags": []
          },
          "execution_count": 5
        }
      ]
    },
    {
      "cell_type": "code",
      "metadata": {
        "id": "SzHkptIO0WYK",
        "colab_type": "code",
        "outputId": "028e12c9-33f2-4e70-b885-cfa772db2dbf",
        "colab": {
          "base_uri": "https://localhost:8080/",
          "height": 34
        }
      },
      "source": [
        "fruta * 3"
      ],
      "execution_count": 0,
      "outputs": [
        {
          "output_type": "execute_result",
          "data": {
            "text/plain": [
              "'bananobananobanano'"
            ]
          },
          "metadata": {
            "tags": []
          },
          "execution_count": 6
        }
      ]
    },
    {
      "cell_type": "code",
      "metadata": {
        "id": "neXJFmMd0WYM",
        "colab_type": "code",
        "outputId": "fbca8ca6-d481-432c-aa23-60ff9cecbb58",
        "colab": {}
      },
      "source": [
        "dulce[0]"
      ],
      "execution_count": 0,
      "outputs": [
        {
          "output_type": "execute_result",
          "data": {
            "text/plain": [
              "'b'"
            ]
          },
          "metadata": {
            "tags": []
          },
          "execution_count": 5
        }
      ]
    },
    {
      "cell_type": "code",
      "metadata": {
        "id": "PGDZ3mNf0WYO",
        "colab_type": "code",
        "outputId": "9f7462c7-3469-413e-8149-31651ef73e01",
        "colab": {
          "base_uri": "https://localhost:8080/",
          "height": 34
        }
      },
      "source": [
        "dulce[:7]"
      ],
      "execution_count": 0,
      "outputs": [
        {
          "output_type": "execute_result",
          "data": {
            "text/plain": [
              "'bocadil'"
            ]
          },
          "metadata": {
            "tags": []
          },
          "execution_count": 7
        }
      ]
    },
    {
      "cell_type": "markdown",
      "metadata": {
        "id": "O6HFMvUO0WYR",
        "colab_type": "text"
      },
      "source": [
        "Sin embargo, las cadenas no pueden ser modificadas, es decir, no les puede asignar nuevos elementos como a las listas y por tanto son inmutables. Esto lo podemos constatar a continuación:"
      ]
    },
    {
      "cell_type": "code",
      "metadata": {
        "id": "jniCfXl70WYR",
        "colab_type": "code",
        "outputId": "2f562632-36a8-4586-8642-e66470c6fc88",
        "colab": {
          "base_uri": "https://localhost:8080/",
          "height": 163
        }
      },
      "source": [
        "fruta[2] = 'z'"
      ],
      "execution_count": 0,
      "outputs": [
        {
          "output_type": "error",
          "ename": "NameError",
          "evalue": "ignored",
          "traceback": [
            "\u001b[0;31m---------------------------------------------------------------------------\u001b[0m",
            "\u001b[0;31mNameError\u001b[0m                                 Traceback (most recent call last)",
            "\u001b[0;32m<ipython-input-1-e055e3164d16>\u001b[0m in \u001b[0;36m<module>\u001b[0;34m()\u001b[0m\n\u001b[0;32m----> 1\u001b[0;31m \u001b[0mfruta\u001b[0m\u001b[0;34m[\u001b[0m\u001b[0;36m2\u001b[0m\u001b[0;34m]\u001b[0m \u001b[0;34m=\u001b[0m \u001b[0;34m'z'\u001b[0m\u001b[0;34m\u001b[0m\u001b[0;34m\u001b[0m\u001b[0m\n\u001b[0m",
            "\u001b[0;31mNameError\u001b[0m: name 'fruta' is not defined"
          ]
        }
      ]
    },
    {
      "cell_type": "markdown",
      "metadata": {
        "id": "eMmUYeBR0WYT",
        "colab_type": "text"
      },
      "source": [
        "Las cadenas tienen varios métodos que pueden ser de gran utilidad. A ellos se puede acceder colocando un punto después del nombre de la variable a la que se le haya asignado una cadena y oprimiendo la tecla <kbd>Tab</kbd>. Por ejemplo, si después de `fruta` colocamos un punto, veremos que aparece:"
      ]
    },
    {
      "cell_type": "code",
      "metadata": {
        "id": "yF8nBAxO0WYU",
        "colab_type": "code",
        "outputId": "e5767353-d543-44e6-fbb4-9d207d96eaff",
        "colab": {
          "base_uri": "https://localhost:8080/",
          "height": 34
        }
      },
      "source": [
        "fruta.find('o')\n"
      ],
      "execution_count": 0,
      "outputs": [
        {
          "output_type": "execute_result",
          "data": {
            "text/plain": [
              "5"
            ]
          },
          "metadata": {
            "tags": []
          },
          "execution_count": 9
        }
      ]
    },
    {
      "cell_type": "markdown",
      "metadata": {
        "id": "vfZrIcqr0WYW",
        "colab_type": "text"
      },
      "source": [
        "**Nota**: *Ninguno* de estos métodos *modifican* a la cadena original, pues como ya dijimos, las cadenas son inmutables.\n",
        "\n",
        "Entre estos métodos, vamos a mirar que comportamiento tienen los siguientes:\n",
        "\n",
        "* **upper**: Convierte toda la cadena en mayúsculas"
      ]
    },
    {
      "cell_type": "code",
      "metadata": {
        "id": "jVM8ZYpS0WYX",
        "colab_type": "code",
        "outputId": "0a5e0db2-a022-4b2a-9805-83ae4d75d259",
        "colab": {
          "base_uri": "https://localhost:8080/",
          "height": 34
        }
      },
      "source": [
        "fruta.upper()"
      ],
      "execution_count": 0,
      "outputs": [
        {
          "output_type": "execute_result",
          "data": {
            "text/plain": [
              "'BANANO'"
            ]
          },
          "metadata": {
            "tags": []
          },
          "execution_count": 10
        }
      ]
    },
    {
      "cell_type": "markdown",
      "metadata": {
        "id": "YFLWZDD70WYZ",
        "colab_type": "text"
      },
      "source": [
        "* **count**: Cuenta cuantas veces se repite un carácter en una cadena"
      ]
    },
    {
      "cell_type": "code",
      "metadata": {
        "id": "H9iUnXai0WYZ",
        "colab_type": "code",
        "outputId": "748b2fd3-1b93-46c4-bb9f-24ab9b2cf2e5",
        "colab": {
          "base_uri": "https://localhost:8080/",
          "height": 34
        }
      },
      "source": [
        "fruta.count('a')"
      ],
      "execution_count": 0,
      "outputs": [
        {
          "output_type": "execute_result",
          "data": {
            "text/plain": [
              "2"
            ]
          },
          "metadata": {
            "tags": []
          },
          "execution_count": 11
        }
      ]
    },
    {
      "cell_type": "markdown",
      "metadata": {
        "id": "tkVGM9Pi0WYc",
        "colab_type": "text"
      },
      "source": [
        "* **replace**: Reemplaza un carácter o parte de una cadena por otro carácter o cadena"
      ]
    },
    {
      "cell_type": "code",
      "metadata": {
        "id": "R377MRlI0WYc",
        "colab_type": "code",
        "outputId": "96bdc9b2-595c-4a7c-bda4-806c9619fe86",
        "colab": {
          "base_uri": "https://localhost:8080/",
          "height": 34
        }
      },
      "source": [
        "fruta.replace('a', 'o')"
      ],
      "execution_count": 0,
      "outputs": [
        {
          "output_type": "execute_result",
          "data": {
            "text/plain": [
              "'bonono'"
            ]
          },
          "metadata": {
            "tags": []
          },
          "execution_count": 12
        }
      ]
    },
    {
      "cell_type": "code",
      "metadata": {
        "id": "Z2apRXdv0WYg",
        "colab_type": "code",
        "outputId": "611fe611-7ab9-445b-f02c-fdc26364d2e8",
        "colab": {
          "base_uri": "https://localhost:8080/",
          "height": 34
        }
      },
      "source": [
        "fruta.replace('ban', 'en')"
      ],
      "execution_count": 0,
      "outputs": [
        {
          "output_type": "execute_result",
          "data": {
            "text/plain": [
              "'enano'"
            ]
          },
          "metadata": {
            "tags": []
          },
          "execution_count": 13
        }
      ]
    },
    {
      "cell_type": "markdown",
      "metadata": {
        "id": "kBCuq2l80WYi",
        "colab_type": "text"
      },
      "source": [
        "* **split**: Divide una cadena según los espacios que tenga y genera una lista de palabras."
      ]
    },
    {
      "cell_type": "code",
      "metadata": {
        "id": "8vhpH-xM0WYi",
        "colab_type": "code",
        "colab": {}
      },
      "source": [
        "s = \"Hola, mundo!\""
      ],
      "execution_count": 0,
      "outputs": []
    },
    {
      "cell_type": "code",
      "metadata": {
        "id": "2xffmc9Z0WYk",
        "colab_type": "code",
        "outputId": "f0818ebb-8133-4365-fa04-f65b43f22500",
        "colab": {
          "base_uri": "https://localhost:8080/",
          "height": 180
        }
      },
      "source": [
        "s.split()\n"
      ],
      "execution_count": 0,
      "outputs": [
        {
          "output_type": "error",
          "ename": "NameError",
          "evalue": "ignored",
          "traceback": [
            "\u001b[0;31m---------------------------------------------------------------------------\u001b[0m",
            "\u001b[0;31mNameError\u001b[0m                                 Traceback (most recent call last)",
            "\u001b[0;32m<ipython-input-6-98ac5eaf41e5>\u001b[0m in \u001b[0;36m<module>\u001b[0;34m()\u001b[0m\n\u001b[0;32m----> 1\u001b[0;31m \u001b[0ms\u001b[0m\u001b[0;34m.\u001b[0m\u001b[0msplit\u001b[0m\u001b[0;34m(\u001b[0m\u001b[0;34m)\u001b[0m\u001b[0;34m\u001b[0m\u001b[0;34m\u001b[0m\u001b[0m\n\u001b[0m\u001b[1;32m      2\u001b[0m \u001b[0mhelp\u001b[0m\u001b[0;34m(\u001b[0m\u001b[0mstr\u001b[0m\u001b[0;34m.\u001b[0m\u001b[0msplit\u001b[0m\u001b[0;34m)\u001b[0m\u001b[0;34m\u001b[0m\u001b[0;34m\u001b[0m\u001b[0m\n",
            "\u001b[0;31mNameError\u001b[0m: name 's' is not defined"
          ]
        }
      ]
    },
    {
      "cell_type": "markdown",
      "metadata": {
        "id": "WnAyEj_q0WYm",
        "colab_type": "text"
      },
      "source": [
        "También puede dividir una cadena por un determinado carácter para partirla en varias subcadenas:"
      ]
    },
    {
      "cell_type": "code",
      "metadata": {
        "id": "h_J9F6lN0WYm",
        "colab_type": "code",
        "outputId": "35863d15-068f-48b4-b20e-efcaa745435e",
        "colab": {}
      },
      "source": [
        "dulce.split('d')"
      ],
      "execution_count": 0,
      "outputs": [
        {
          "output_type": "execute_result",
          "data": {
            "text/plain": [
              "['boca', 'illo']"
            ]
          },
          "metadata": {
            "tags": []
          },
          "execution_count": 20
        }
      ]
    },
    {
      "cell_type": "markdown",
      "metadata": {
        "id": "H_phxZ5W0WYp",
        "colab_type": "text"
      },
      "source": [
        "## Problemas"
      ]
    },
    {
      "cell_type": "markdown",
      "metadata": {
        "id": "RK7tbTv20WYq",
        "colab_type": "text"
      },
      "source": [
        "### Problema 1\n",
        "\n",
        "Tomar la variable `dulce`, hacer que se repita 50 veces, y separar las palabras con un espacio, de tal forma que obtengamos algo como lo siguiente, pero **sin** generar un espacio al final.\n",
        "\n",
        "        'bocadillo bocadillo ...'"
      ]
    },
    {
      "cell_type": "code",
      "metadata": {
        "collapsed": true,
        "id": "kN6Zez030WYq",
        "colab_type": "code",
        "colab": {}
      },
      "source": [
        "\n",
        "\n"
      ],
      "execution_count": 0,
      "outputs": []
    },
    {
      "cell_type": "markdown",
      "metadata": {
        "id": "7R-HNPEJ0WYs",
        "colab_type": "text"
      },
      "source": [
        "### Problema 2\n",
        "\n",
        "¿Cuántas veces se repite la palabra `banano` en la siguiente cadena?:"
      ]
    },
    {
      "cell_type": "code",
      "metadata": {
        "id": "ANZU9sm20WYs",
        "colab_type": "code",
        "colab": {}
      },
      "source": [
        "cadena = 'bananobananobananobananobananobananobananobananobananobananobananobananobananobananobananobananobananobananobananobananobananobananobananobananobananobananobananobananobananobananobananobananobananobananobananobananobananobananobananobananobananobananobananobananobananobananobananobananobananobananobananobananobananobananobananobananobananobananobananobananobananobananobananobananobananobananobananobananobananobananobananobananobananobananobananobananobananobananobananobananobananobananobananobananobananobananobananobananobananobananobananobananobananobananobananobananobananobananobananobananobananobananobananobananobananobananobananobananobananobananobananobananobananobananobananobananobananobananobananobananobananobananobananobananobananobananobananobananobananobananobananobananobananobananobananobananobananobananobananobananobananobananobananobananobananobananobananobananobananobananobAnanObAnanObAnanObAnanObAnanObAnanObAnanObAnanObAnanObAnanObAnanObAnanObAnanObAnanObAnanObAnanObAnanObAnanObAnanObAnanObAnanObAnanObAnanObAnanObAnanObAnanObAnanObAnanObAnanObAnanObAnanObAnanObAnanObAnanObAnanObAnanObAnanObAnanObAnanObAnanObanaNobanaNobanaNobanaNobanaNobanaNobanaNobanaNobanaNobanaNobanaNobanaNobanaNobanaNobanaNobanaNobanaNobanaNobanaNobanaNoBaNaNoBaNaNoBaNaNoBaNaNoBaNaNoBaNaNoBaNaNoBaNaNoBaNaNoBaNaNoBaNaNoBaNaNoBaNaNoBaNaNoBaNaNoBaNaNoBaNaNoBaNaNoBaNaNoBaNaNoBaNaNoBaNaNoBaNaNoBaNaNoBaNaNoBaNaNoBaNaNoBaNaNoBaNaNo'"
      ],
      "execution_count": 0,
      "outputs": []
    },
    {
      "cell_type": "markdown",
      "metadata": {
        "id": "yOvm6XQw0WYu",
        "colab_type": "text"
      },
      "source": [
        "*Respuesta*:\n",
        "\n",
        "    150"
      ]
    },
    {
      "cell_type": "markdown",
      "metadata": {
        "id": "yLMMzV840WYw",
        "colab_type": "text"
      },
      "source": [
        "### Problema 3\n",
        "\n",
        "Cuántas veces se repite `banano` en la cadena anterior, sin importar si algunas de sus letras están en mayúsculas o no?\n",
        "\n",
        "*Respuesta*:\n",
        "\n",
        "    239"
      ]
    },
    {
      "cell_type": "code",
      "metadata": {
        "collapsed": true,
        "id": "Fw9e3mSp0WYx",
        "colab_type": "code",
        "colab": {}
      },
      "source": [
        "# Escribir la solución aquí\n"
      ],
      "execution_count": 0,
      "outputs": []
    },
    {
      "cell_type": "markdown",
      "metadata": {
        "id": "S59ILV5F0WYy",
        "colab_type": "text"
      },
      "source": [
        "### Problema 4\n",
        "\n",
        "¿Qué produce el método `center`?\n",
        "\n",
        "Experimentar con los siguientes comandos para ver que produce:"
      ]
    },
    {
      "cell_type": "code",
      "metadata": {
        "id": "KFPsrefa0WYz",
        "colab_type": "code",
        "outputId": "f809074c-6cfd-48c1-98f4-5cedbb58958e",
        "colab": {}
      },
      "source": [
        "dulce.center(2)"
      ],
      "execution_count": 0,
      "outputs": [
        {
          "output_type": "execute_result",
          "data": {
            "text/plain": [
              "'bocadillo'"
            ]
          },
          "metadata": {
            "tags": []
          },
          "execution_count": 21
        }
      ]
    },
    {
      "cell_type": "code",
      "metadata": {
        "id": "XiP8AdFQ0WY0",
        "colab_type": "code",
        "outputId": "8554de42-b380-4589-e231-308687e4481c",
        "colab": {}
      },
      "source": [
        "dulce.center(10)"
      ],
      "execution_count": 0,
      "outputs": [
        {
          "output_type": "execute_result",
          "data": {
            "text/plain": [
              "'bocadillo '"
            ]
          },
          "metadata": {
            "tags": []
          },
          "execution_count": 20
        }
      ]
    },
    {
      "cell_type": "code",
      "metadata": {
        "id": "HggWjTd-0WY3",
        "colab_type": "code",
        "colab": {}
      },
      "source": [
        "dulce.center(16)"
      ],
      "execution_count": 0,
      "outputs": []
    },
    {
      "cell_type": "code",
      "metadata": {
        "id": "ObrIHJAq0WY5",
        "colab_type": "code",
        "outputId": "27a57e8d-f1fe-4bf7-cc50-7bd20bededd8",
        "colab": {}
      },
      "source": [
        "dulce.center(30)"
      ],
      "execution_count": 0,
      "outputs": [
        {
          "output_type": "error",
          "ename": "NameError",
          "evalue": "name 'dulce' is not defined",
          "traceback": [
            "\u001b[0;31m---------------------------------------------------------------------------\u001b[0m",
            "\u001b[0;31mNameError\u001b[0m                                 Traceback (most recent call last)",
            "\u001b[0;32m<ipython-input-1-e6301d1ade9d>\u001b[0m in \u001b[0;36m<module>\u001b[0;34m()\u001b[0m\n\u001b[0;32m----> 1\u001b[0;31m \u001b[0mdulce\u001b[0m\u001b[0;34m.\u001b[0m\u001b[0mcenter\u001b[0m\u001b[0;34m(\u001b[0m\u001b[0;36m30\u001b[0m\u001b[0;34m)\u001b[0m\u001b[0;34m\u001b[0m\u001b[0m\n\u001b[0m",
            "\u001b[0;31mNameError\u001b[0m: name 'dulce' is not defined"
          ]
        }
      ]
    },
    {
      "cell_type": "markdown",
      "metadata": {
        "id": "B07nilAc0WY7",
        "colab_type": "text"
      },
      "source": [
        "# Tuplas\n",
        "\n",
        "Una tupla es un arreglo **inmutable** de distintos tipos de datos. Es decir, es como si fuera una lista y tiene sus mismas propiedades, pero al igual que las cadenas, no es posible modificar ninguno de sus valores.\n",
        "\n",
        "Las tuplas se definen con paréntesis `( )` en lugar de corchetes. Un ejemplo de tupla sería:"
      ]
    },
    {
      "cell_type": "code",
      "metadata": {
        "id": "QqLjP97G0WY7",
        "colab_type": "code",
        "colab": {}
      },
      "source": [
        "tp = (1, 2, 3, 4, 'a')"
      ],
      "execution_count": 0,
      "outputs": []
    },
    {
      "cell_type": "code",
      "metadata": {
        "id": "KD03c-hr0WY9",
        "colab_type": "code",
        "outputId": "e5ddc2c6-1fc3-4c6d-c640-9d6cec2e0886",
        "colab": {
          "base_uri": "https://localhost:8080/",
          "height": 34
        }
      },
      "source": [
        "tp[3]"
      ],
      "execution_count": 0,
      "outputs": [
        {
          "output_type": "execute_result",
          "data": {
            "text/plain": [
              "4"
            ]
          },
          "metadata": {
            "tags": []
          },
          "execution_count": 8
        }
      ]
    },
    {
      "cell_type": "code",
      "metadata": {
        "id": "qedpRSy50WY-",
        "colab_type": "code",
        "outputId": "535b2961-4806-4409-c0c2-f8858a4d25d1",
        "colab": {}
      },
      "source": [
        "tp[-1]"
      ],
      "execution_count": 0,
      "outputs": [
        {
          "output_type": "execute_result",
          "data": {
            "text/plain": [
              "'a'"
            ]
          },
          "metadata": {
            "tags": []
          },
          "execution_count": 44
        }
      ]
    },
    {
      "cell_type": "code",
      "metadata": {
        "id": "cknhyj350WZA",
        "colab_type": "code",
        "outputId": "4ab35e8b-7bd7-48c2-97bd-6ddf682a4c24",
        "colab": {}
      },
      "source": [
        "tp[2:]"
      ],
      "execution_count": 0,
      "outputs": [
        {
          "output_type": "execute_result",
          "data": {
            "text/plain": [
              "(3, 4, 'a')"
            ]
          },
          "metadata": {
            "tags": []
          },
          "execution_count": 45
        }
      ]
    },
    {
      "cell_type": "markdown",
      "metadata": {
        "id": "yYHdKNXf0WZC",
        "colab_type": "text"
      },
      "source": [
        "Pero no podemos modificar sus valores mediante nuevas asignaciones:"
      ]
    },
    {
      "cell_type": "code",
      "metadata": {
        "id": "y_4d3BG30WZC",
        "colab_type": "code",
        "outputId": "38bfd592-be39-490d-c4db-4d0b2c39f8c3",
        "colab": {}
      },
      "source": [
        "tp[2] = 'b'"
      ],
      "execution_count": 0,
      "outputs": [
        {
          "output_type": "error",
          "ename": "TypeError",
          "evalue": "'tuple' object does not support item assignment",
          "traceback": [
            "\u001b[1;31m---------------------------------------------------------------------------\u001b[0m",
            "\u001b[1;31mTypeError\u001b[0m                                 Traceback (most recent call last)",
            "\u001b[1;32m<ipython-input-46-3688dc6b8d2c>\u001b[0m in \u001b[0;36m<module>\u001b[1;34m()\u001b[0m\n\u001b[1;32m----> 1\u001b[1;33m \u001b[0mtp\u001b[0m\u001b[1;33m[\u001b[0m\u001b[1;36m2\u001b[0m\u001b[1;33m]\u001b[0m \u001b[1;33m=\u001b[0m \u001b[1;34m'b'\u001b[0m\u001b[1;33m\u001b[0m\u001b[0m\n\u001b[0m",
            "\u001b[1;31mTypeError\u001b[0m: 'tuple' object does not support item assignment"
          ]
        }
      ]
    },
    {
      "cell_type": "markdown",
      "metadata": {
        "id": "NSjsIyS70WZE",
        "colab_type": "text"
      },
      "source": [
        "**Nota**: Es posible omitir los paréntesis al momento de definir una tupla si así se desea, lo cual es una práctica bastante extendida entre los programadores de Python. Por ejemplo, una asignación válida es:"
      ]
    },
    {
      "cell_type": "code",
      "metadata": {
        "id": "qGoP6kPf0WZF",
        "colab_type": "code",
        "colab": {}
      },
      "source": [
        "tp1 = 'a', 'b', 2"
      ],
      "execution_count": 0,
      "outputs": []
    },
    {
      "cell_type": "code",
      "metadata": {
        "id": "m15_yjOi0WZG",
        "colab_type": "code",
        "outputId": "b292c0c6-562f-400c-a7bf-040eac552f1a",
        "colab": {}
      },
      "source": [
        "sum(tp1)"
      ],
      "execution_count": 0,
      "outputs": [
        {
          "output_type": "error",
          "ename": "TypeError",
          "evalue": "unsupported operand type(s) for +: 'int' and 'str'",
          "traceback": [
            "\u001b[1;31m---------------------------------------------------------------------------\u001b[0m",
            "\u001b[1;31mTypeError\u001b[0m                                 Traceback (most recent call last)",
            "\u001b[1;32m<ipython-input-52-9119130c6b3f>\u001b[0m in \u001b[0;36m<module>\u001b[1;34m()\u001b[0m\n\u001b[1;32m----> 1\u001b[1;33m \u001b[0msum\u001b[0m\u001b[1;33m(\u001b[0m\u001b[0mtp1\u001b[0m\u001b[1;33m)\u001b[0m\u001b[1;33m\u001b[0m\u001b[0m\n\u001b[0m",
            "\u001b[1;31mTypeError\u001b[0m: unsupported operand type(s) for +: 'int' and 'str'"
          ]
        }
      ]
    },
    {
      "cell_type": "markdown",
      "metadata": {
        "id": "a3LM7yjs0WZI",
        "colab_type": "text"
      },
      "source": [
        "## Problemas"
      ]
    },
    {
      "cell_type": "markdown",
      "metadata": {
        "id": "tfrurJW10WZI",
        "colab_type": "text"
      },
      "source": [
        "### Problema 1\n",
        "\n",
        "¿Es posible calcular el promedio a la lista de la siguiente tupla?"
      ]
    },
    {
      "cell_type": "code",
      "metadata": {
        "collapsed": true,
        "id": "6tSigIoQ0WZJ",
        "colab_type": "code",
        "colab": {}
      },
      "source": [
        "li = (3, 18, 17, 44, 14, 12, 29, 19, 4, 6, 17, 7, 14, 6, 8, 17, 17, 21, 65,\\\n",
        "      19, 10, 31, 92, 17, 5, 15, 3, 14, 20, 12, 29, 57, 15, 2, 17, 1, 6, 17, 2,\\\n",
        "      71, 12, 11, 62, 14, 9, 20, 43, 19, 4, 15)"
      ],
      "execution_count": 0,
      "outputs": []
    },
    {
      "cell_type": "code",
      "metadata": {
        "id": "a-IkKDHg0WZL",
        "colab_type": "code",
        "outputId": "96f671f9-2ca3-4ad8-e5c9-1a1d4d1ad86c",
        "colab": {}
      },
      "source": [
        "sum(li)/float(len(li))\n"
      ],
      "execution_count": 0,
      "outputs": [
        {
          "output_type": "execute_result",
          "data": {
            "text/plain": [
              "20.04"
            ]
          },
          "metadata": {
            "tags": []
          },
          "execution_count": 24
        }
      ]
    },
    {
      "cell_type": "markdown",
      "metadata": {
        "id": "olR2oqmh0WZO",
        "colab_type": "text"
      },
      "source": [
        "### Problema 2\n",
        "\n",
        "Crear una tupla que tenga un sólo elemento"
      ]
    },
    {
      "cell_type": "code",
      "metadata": {
        "id": "L67VaNQG0WZO",
        "colab_type": "code",
        "colab": {}
      },
      "source": [
        ""
      ],
      "execution_count": 0,
      "outputs": []
    },
    {
      "cell_type": "markdown",
      "metadata": {
        "id": "ajtJDOUa0WZQ",
        "colab_type": "text"
      },
      "source": [
        "### Problema 3\n",
        "\n",
        "¿Qué efecto tiene esta operación"
      ]
    },
    {
      "cell_type": "code",
      "metadata": {
        "id": "FV66tcYx0WZR",
        "colab_type": "code",
        "colab": {}
      },
      "source": [
        "x, y, z = tp1"
      ],
      "execution_count": 0,
      "outputs": []
    },
    {
      "cell_type": "markdown",
      "metadata": {
        "id": "rmQs2PKI0WZT",
        "colab_type": "text"
      },
      "source": [
        "dado el valor de `tp1` definido arriba?"
      ]
    },
    {
      "cell_type": "markdown",
      "metadata": {
        "id": "ZOL3bL_U0WZV",
        "colab_type": "text"
      },
      "source": [
        "### Problema 4\n",
        "\n",
        "¿Por qué, en cambio, esta operación falla?"
      ]
    },
    {
      "cell_type": "code",
      "metadata": {
        "id": "v1lRpSqi0WZV",
        "colab_type": "code",
        "outputId": "7db05193-771c-4338-da43-2a80b4adabf7",
        "colab": {
          "base_uri": "https://localhost:8080/",
          "height": 163
        }
      },
      "source": [
        "u, v, w, z = tp1"
      ],
      "execution_count": 0,
      "outputs": [
        {
          "output_type": "error",
          "ename": "ValueError",
          "evalue": "ignored",
          "traceback": [
            "\u001b[0;31m---------------------------------------------------------------------------\u001b[0m",
            "\u001b[0;31mValueError\u001b[0m                                Traceback (most recent call last)",
            "\u001b[0;32m<ipython-input-10-e181fc5d963a>\u001b[0m in \u001b[0;36m<module>\u001b[0;34m()\u001b[0m\n\u001b[0;32m----> 1\u001b[0;31m \u001b[0mu\u001b[0m\u001b[0;34m,\u001b[0m \u001b[0mv\u001b[0m\u001b[0;34m,\u001b[0m \u001b[0mw\u001b[0m\u001b[0;34m,\u001b[0m \u001b[0mz\u001b[0m \u001b[0;34m=\u001b[0m \u001b[0mtp1\u001b[0m\u001b[0;34m\u001b[0m\u001b[0;34m\u001b[0m\u001b[0m\n\u001b[0m",
            "\u001b[0;31mValueError\u001b[0m: not enough values to unpack (expected 4, got 3)"
          ]
        }
      ]
    },
    {
      "cell_type": "markdown",
      "metadata": {
        "id": "HBDrYlbm0WZX",
        "colab_type": "text"
      },
      "source": [
        "### Problema 5\n",
        "\n",
        "¿Cómo se calcula el máximo de una tupla?"
      ]
    },
    {
      "cell_type": "code",
      "metadata": {
        "id": "8jyVSK610WZX",
        "colab_type": "code",
        "outputId": "ae3ef018-696b-4526-836e-a9ab81868cb2",
        "colab": {}
      },
      "source": [
        "max(li)\n"
      ],
      "execution_count": 0,
      "outputs": [
        {
          "output_type": "execute_result",
          "data": {
            "text/plain": [
              "92"
            ]
          },
          "metadata": {
            "tags": []
          },
          "execution_count": 61
        }
      ]
    },
    {
      "cell_type": "markdown",
      "metadata": {
        "id": "SgP9pOZP0WZa",
        "colab_type": "text"
      },
      "source": [
        "# Diccionarios\n",
        "\n",
        "Los diccionarios son una estructura de datos muy usada en Python. Ya hemos visto que los elementos de listas, cadenas y tuplas están indexados por números, es decir, `li[0]`, `fruta[1]` o `tp[2]`. En su lugar, los diccionarios están indexados por *claves* (o *keys* en inglés), que pueden ser no sólo números, sino también cadenas, tuplas o cualquier otro tipo de datos que sea **inmutable**.\n",
        "\n",
        "Lo interesante de los diccionarios es que nos sirven para relacionar dos tipos distintos de datos: las claves con sus *valores* (o *values* en inglés), que pueden ser mutables o inmutables.\n",
        "\n",
        "Por ejemplo, supongamos que queremos guardar los códigos que varias personas están utilizando para entrar a un servicio web. Esto lo podemos hacer muy fácilmente con un diccionario, en el que las claves sean el nombre de cada persona y sus valores sean las contraseñas que estén usando.\n",
        "\n",
        "Para ello, en Python podemos escribir algo como:"
      ]
    },
    {
      "cell_type": "code",
      "metadata": {
        "id": "aipKjKyQ0WZa",
        "colab_type": "code",
        "colab": {}
      },
      "source": [
        "codigos = {'Luis': 2257, 'Juan': 9739, 'Carlos': 5591}"
      ],
      "execution_count": 0,
      "outputs": []
    },
    {
      "cell_type": "markdown",
      "metadata": {
        "id": "hqO78HQI0WZc",
        "colab_type": "text"
      },
      "source": [
        "Como podemos ver, los diccionarios se definen con llaves (`{ }`). Las *claves*\n",
        "son los elementos que están a la izquierda de los `:`, mientras que los que\n",
        "están a la derecha son los *valores*.\n",
        "\n",
        "Como ya se mencionó, para extraer un elemento de un diccionario es necesario usar alguna de sus claves. En nuestro caso, las claves son los nombres de las personas. Por ejemplo, para extraer el código que le corresponde a `Carlos` debemos escribir:"
      ]
    },
    {
      "cell_type": "code",
      "metadata": {
        "id": "iX1A58ci0WZc",
        "colab_type": "code",
        "outputId": "efa1b873-20cd-4dac-f504-73835feea35a",
        "colab": {
          "base_uri": "https://localhost:8080/",
          "height": 34
        }
      },
      "source": [
        "codigos['Carlos']"
      ],
      "execution_count": 0,
      "outputs": [
        {
          "output_type": "execute_result",
          "data": {
            "text/plain": [
              "5591"
            ]
          },
          "metadata": {
            "tags": []
          },
          "execution_count": 17
        }
      ]
    },
    {
      "cell_type": "markdown",
      "metadata": {
        "id": "Unt5Aezf0WZe",
        "colab_type": "text"
      },
      "source": [
        "o para el de `Juan`"
      ]
    },
    {
      "cell_type": "code",
      "metadata": {
        "id": "UZDWRVIy0WZf",
        "colab_type": "code",
        "outputId": "baabe0d0-62ee-4ad4-8a5e-aca55d8c4a66",
        "colab": {}
      },
      "source": [
        "codigos['Juan']"
      ],
      "execution_count": 0,
      "outputs": [
        {
          "output_type": "execute_result",
          "data": {
            "text/plain": [
              "9739"
            ]
          },
          "metadata": {
            "tags": []
          },
          "execution_count": 64
        }
      ]
    },
    {
      "cell_type": "markdown",
      "metadata": {
        "id": "S2_LYWYe0WZh",
        "colab_type": "text"
      },
      "source": [
        "Si alguien cambia de contraseña, podemos actualizar nuestro diccionario fácilmente haciendo una nueva asignación, por ejemplo:"
      ]
    },
    {
      "cell_type": "code",
      "metadata": {
        "id": "FIua3Li20WZh",
        "colab_type": "code",
        "colab": {}
      },
      "source": [
        "codigos['Luis'] = 1627"
      ],
      "execution_count": 0,
      "outputs": []
    },
    {
      "cell_type": "code",
      "metadata": {
        "id": "jMipTfhb0WZj",
        "colab_type": "code",
        "outputId": "d872ead5-2f7f-4903-b817-c35b8a315d5c",
        "colab": {
          "base_uri": "https://localhost:8080/",
          "height": 34
        }
      },
      "source": [
        "codigos"
      ],
      "execution_count": 0,
      "outputs": [
        {
          "output_type": "execute_result",
          "data": {
            "text/plain": [
              "{'Carlos': 5591, 'Juan': 9739, 'Luis': 1627}"
            ]
          },
          "metadata": {
            "tags": []
          },
          "execution_count": 19
        }
      ]
    },
    {
      "cell_type": "markdown",
      "metadata": {
        "id": "8jeBE7y50WZk",
        "colab_type": "text"
      },
      "source": [
        "**Nota**: Los diccionarios no tienen un orden interno por defecto. En el último ejemplo podemos ver como `'Luis'` aparece al final del diccionario,  mientras que en la primera definición de `códigos` aparecía al principio. No hay que preocuparse por ello."
      ]
    },
    {
      "cell_type": "markdown",
      "metadata": {
        "id": "D8VBMhL_0WZl",
        "colab_type": "text"
      },
      "source": [
        "O si una persona se retira del servicio, podemos eliminarla del diccionario\n",
        "usando el siguiente comando:"
      ]
    },
    {
      "cell_type": "code",
      "metadata": {
        "id": "N8pgqhKC0WZl",
        "colab_type": "code",
        "outputId": "0d96130e-e61f-4a95-b250-a152dd79e160",
        "colab": {
          "base_uri": "https://localhost:8080/",
          "height": 34
        }
      },
      "source": [
        "codigos.pop('Juan')"
      ],
      "execution_count": 0,
      "outputs": [
        {
          "output_type": "execute_result",
          "data": {
            "text/plain": [
              "9739"
            ]
          },
          "metadata": {
            "tags": []
          },
          "execution_count": 20
        }
      ]
    },
    {
      "cell_type": "code",
      "metadata": {
        "id": "r6DGso-l0WZo",
        "colab_type": "code",
        "outputId": "5a150a85-eff9-4195-a20c-d3a9c73fb30f",
        "colab": {
          "base_uri": "https://localhost:8080/",
          "height": 34
        }
      },
      "source": [
        "codigos"
      ],
      "execution_count": 0,
      "outputs": [
        {
          "output_type": "execute_result",
          "data": {
            "text/plain": [
              "{'Carlos': 5591, 'Luis': 1627}"
            ]
          },
          "metadata": {
            "tags": []
          },
          "execution_count": 21
        }
      ]
    },
    {
      "cell_type": "markdown",
      "metadata": {
        "id": "VtoLKyp60WZp",
        "colab_type": "text"
      },
      "source": [
        "Si queremos introducir el nombre y la contraseña de una nueva persona, sólo es\n",
        "necesario usar una nueva clave y asignarle un valor, así"
      ]
    },
    {
      "cell_type": "code",
      "metadata": {
        "id": "B4sUdbsk0WZq",
        "colab_type": "code",
        "colab": {}
      },
      "source": [
        "codigos['Jorge'] = 6621"
      ],
      "execution_count": 0,
      "outputs": []
    },
    {
      "cell_type": "code",
      "metadata": {
        "id": "twUtYkKZ0WZt",
        "colab_type": "code",
        "outputId": "a9f2dc95-965b-4ca3-a380-64bacb96b39e",
        "colab": {
          "base_uri": "https://localhost:8080/",
          "height": 34
        }
      },
      "source": [
        "codigos"
      ],
      "execution_count": 0,
      "outputs": [
        {
          "output_type": "execute_result",
          "data": {
            "text/plain": [
              "{'Carlos': 5591, 'Jorge': 6621, 'Luis': 1627}"
            ]
          },
          "metadata": {
            "tags": []
          },
          "execution_count": 23
        }
      ]
    },
    {
      "cell_type": "markdown",
      "metadata": {
        "id": "fiACZqJH0WZv",
        "colab_type": "text"
      },
      "source": [
        "Para saber si una persona ya está en el diccionario o no, usamos el siguiente\n",
        "método:"
      ]
    },
    {
      "cell_type": "code",
      "metadata": {
        "id": "P7BQ4FHD0WZv",
        "colab_type": "code",
        "outputId": "6a3f07ca-83ff-4282-dfbd-0f13604f93f8",
        "colab": {}
      },
      "source": [
        "'Carlos' in codigos.keys()"
      ],
      "execution_count": 0,
      "outputs": [
        {
          "output_type": "execute_result",
          "data": {
            "text/plain": [
              "True"
            ]
          },
          "metadata": {
            "tags": []
          },
          "execution_count": 71
        }
      ]
    },
    {
      "cell_type": "code",
      "metadata": {
        "id": "bM0j8Y8k0WZy",
        "colab_type": "code",
        "outputId": "95310fdf-1dc8-4867-d121-b9c87ede0ad9",
        "colab": {}
      },
      "source": [
        "'José' in codigos.keys()"
      ],
      "execution_count": 0,
      "outputs": [
        {
          "output_type": "execute_result",
          "data": {
            "text/plain": [
              "False"
            ]
          },
          "metadata": {
            "tags": []
          },
          "execution_count": 72
        }
      ]
    },
    {
      "cell_type": "markdown",
      "metadata": {
        "id": "8JNcOMRl0WZ1",
        "colab_type": "text"
      },
      "source": [
        "Finalmente, para extraer todas las claves y los valores de un diccionario podemos usar los siguientes métodos:"
      ]
    },
    {
      "cell_type": "code",
      "metadata": {
        "id": "nJFEYTWs0WZ1",
        "colab_type": "code",
        "outputId": "5bd839e9-8a87-4186-dc8e-fc1d727fc0f8",
        "colab": {}
      },
      "source": [
        "codigos.keys()"
      ],
      "execution_count": 0,
      "outputs": [
        {
          "output_type": "execute_result",
          "data": {
            "text/plain": [
              "['Luis', 'Jorge', 'Carlos']"
            ]
          },
          "metadata": {
            "tags": []
          },
          "execution_count": 73
        }
      ]
    },
    {
      "cell_type": "code",
      "metadata": {
        "id": "HKoR_dyT0WZ3",
        "colab_type": "code",
        "outputId": "441fe1c9-c725-47c1-853f-9f8b60259421",
        "colab": {}
      },
      "source": [
        "codigos.values()"
      ],
      "execution_count": 0,
      "outputs": [
        {
          "output_type": "execute_result",
          "data": {
            "text/plain": [
              "[1627, 6621, 5591]"
            ]
          },
          "metadata": {
            "tags": []
          },
          "execution_count": 74
        }
      ]
    },
    {
      "cell_type": "markdown",
      "metadata": {
        "id": "xyzgPmLA0WZ4",
        "colab_type": "text"
      },
      "source": [
        "## Problemas"
      ]
    },
    {
      "cell_type": "markdown",
      "metadata": {
        "id": "RluB1fip0WZ4",
        "colab_type": "text"
      },
      "source": [
        "### Problema 1\n",
        "\n",
        "Definir un diccionario que represente una función que sólo puede tomar los valores del producto cartesiano de los conjuntos $\\{0\\}$ con\n",
        "$\\{1\\}$ (i.e. $\\{0, 0\\}$, $\\{0, 1\\}$, etc), y que retorna el segundo valor de cada tupla."
      ]
    },
    {
      "cell_type": "code",
      "metadata": {
        "collapsed": true,
        "id": "yiiQ_jKM0WZ4",
        "colab_type": "code",
        "colab": {}
      },
      "source": [
        "# Escribir la solución aquí\n"
      ],
      "execution_count": 0,
      "outputs": []
    },
    {
      "cell_type": "markdown",
      "metadata": {
        "id": "GMVbvSbj0WZ6",
        "colab_type": "text"
      },
      "source": [
        "### Problema 2\n",
        "\n",
        "Una forma eficiente de definir y evaluar polinomios, es a través de un diccionario. En éste las claves corresponden a las potencias del polinomio y sus valores al coeficiente de la potencia correspondiente.\n",
        "\n",
        "Por ejemplo, el polinomio $5x^{2} - x + 3$ corresponde al diccionario:\n",
        "    \n",
        "```python\n",
        "{0: 3, 1: -1, 2: 5}\n",
        "```\n",
        "    \n",
        "Definir un diccionario para el polinomio $4x^{7} - 2x^{3} + 3x$ y obtener cuál es su valor cuando $x = 2$, usando el diccionario (Tomado de *A Primer on Scientific Programming with Python*, de Hans Petter Langtangen)\n",
        "\n",
        "*Respuesta*\n",
        "    \n",
        "    502"
      ]
    },
    {
      "cell_type": "code",
      "metadata": {
        "id": "1e6Oep7P0WZ7",
        "colab_type": "code",
        "outputId": "ffedbde4-ea18-4d6b-aeca-625f3647c64b",
        "colab": {}
      },
      "source": [
        "squares = {x: 4*x**7-2*x**3+3*x for x in range(15)}\n",
        "squares"
      ],
      "execution_count": 0,
      "outputs": [
        {
          "output_type": "execute_result",
          "data": {
            "text/plain": [
              "{0: 0,\n",
              " 1: 5,\n",
              " 2: 502,\n",
              " 3: 8703,\n",
              " 4: 65420,\n",
              " 5: 312265,\n",
              " 6: 1119330,\n",
              " 7: 3293507,\n",
              " 8: 8387608,\n",
              " 9: 19130445,\n",
              " 10: 39998030,\n",
              " 11: 77946055,\n",
              " 12: 143323812,\n",
              " 13: 250989713,\n",
              " 14: 421648570}"
            ]
          },
          "metadata": {
            "tags": []
          },
          "execution_count": 91
        }
      ]
    },
    {
      "cell_type": "markdown",
      "metadata": {
        "id": "2vSXWBRW0WZ9",
        "colab_type": "text"
      },
      "source": [
        "# Conversión entre tipos de datos\n",
        "\n",
        "Para convertir entre unos y otros tipos de datos, en Python se usan los siguientes comandos:"
      ]
    },
    {
      "cell_type": "markdown",
      "metadata": {
        "id": "gd0hrH2W0WZ9",
        "colab_type": "text"
      },
      "source": [
        "* **int**: Da la parte entera de un número flotante, y también covierte cadenas que sean enteros."
      ]
    },
    {
      "cell_type": "code",
      "metadata": {
        "id": "9LmQWW6r0WZ9",
        "colab_type": "code",
        "outputId": "6f4c1e0f-5169-41b2-8380-9e571d9666e6",
        "colab": {}
      },
      "source": [
        "int(3.99)"
      ],
      "execution_count": 0,
      "outputs": [
        {
          "output_type": "execute_result",
          "data": {
            "text/plain": [
              "3"
            ]
          },
          "metadata": {
            "tags": []
          },
          "execution_count": 92
        }
      ]
    },
    {
      "cell_type": "code",
      "metadata": {
        "id": "b7-RKHRu0WaA",
        "colab_type": "code",
        "outputId": "5b0e284d-657e-4a5e-f8ee-a444e3dd8bef",
        "colab": {}
      },
      "source": [
        "int('6')"
      ],
      "execution_count": 0,
      "outputs": [
        {
          "output_type": "execute_result",
          "data": {
            "text/plain": [
              "6"
            ]
          },
          "metadata": {
            "tags": []
          },
          "execution_count": 93
        }
      ]
    },
    {
      "cell_type": "markdown",
      "metadata": {
        "id": "jkOODG8i0WaC",
        "colab_type": "text"
      },
      "source": [
        "* **float**: Convierte enteros y cadenas a números flotantes."
      ]
    },
    {
      "cell_type": "code",
      "metadata": {
        "id": "VFWLF4Vo0WaC",
        "colab_type": "code",
        "outputId": "f1225d1e-abaf-4dec-8468-78482ab9a7b6",
        "colab": {}
      },
      "source": [
        "float(12)"
      ],
      "execution_count": 0,
      "outputs": [
        {
          "output_type": "execute_result",
          "data": {
            "text/plain": [
              "12.0"
            ]
          },
          "metadata": {
            "tags": []
          },
          "execution_count": 94
        }
      ]
    },
    {
      "cell_type": "code",
      "metadata": {
        "id": "-Tv48evz0WaD",
        "colab_type": "code",
        "outputId": "6b594858-ec41-49ab-b162-5f385a4be982",
        "colab": {}
      },
      "source": [
        "float('4.23')"
      ],
      "execution_count": 0,
      "outputs": [
        {
          "output_type": "execute_result",
          "data": {
            "text/plain": [
              "4.23"
            ]
          },
          "metadata": {
            "tags": []
          },
          "execution_count": 95
        }
      ]
    },
    {
      "cell_type": "markdown",
      "metadata": {
        "id": "RzgbnY140WaF",
        "colab_type": "text"
      },
      "source": [
        "* **str**: Convierte números y cualquier otro objeto a una cadena."
      ]
    },
    {
      "cell_type": "code",
      "metadata": {
        "id": "PdSjT--n0WaF",
        "colab_type": "code",
        "outputId": "011a2872-2290-452a-b092-6da2ab696e11",
        "colab": {}
      },
      "source": [
        "str(36.1)"
      ],
      "execution_count": 0,
      "outputs": [
        {
          "output_type": "execute_result",
          "data": {
            "text/plain": [
              "'36.1'"
            ]
          },
          "metadata": {
            "tags": []
          },
          "execution_count": 96
        }
      ]
    },
    {
      "cell_type": "code",
      "metadata": {
        "id": "Vc9qIAt50WaJ",
        "colab_type": "code",
        "outputId": "cd1cbfda-599b-43b1-ecbc-8894a58858c7",
        "colab": {}
      },
      "source": [
        "str([1,2,3])"
      ],
      "execution_count": 0,
      "outputs": [
        {
          "output_type": "execute_result",
          "data": {
            "text/plain": [
              "'[1, 2, 3]'"
            ]
          },
          "metadata": {
            "tags": []
          },
          "execution_count": 97
        }
      ]
    },
    {
      "cell_type": "markdown",
      "metadata": {
        "id": "YfaZtjm00WaK",
        "colab_type": "text"
      },
      "source": [
        "* **list**: Convierte tuplas, diccionarios y cadenas a una lista."
      ]
    },
    {
      "cell_type": "code",
      "metadata": {
        "id": "w2K-0zQX0WaL",
        "colab_type": "code",
        "outputId": "e83fb364-cfec-4c70-b51e-5424aecf29a2",
        "colab": {}
      },
      "source": [
        "list((3, 2, 4))"
      ],
      "execution_count": 0,
      "outputs": [
        {
          "output_type": "execute_result",
          "data": {
            "text/plain": [
              "[3, 2, 4]"
            ]
          },
          "metadata": {
            "tags": []
          },
          "execution_count": 98
        }
      ]
    },
    {
      "cell_type": "code",
      "metadata": {
        "id": "S3BQtfFT0WaM",
        "colab_type": "code",
        "outputId": "31f742bc-ffca-400e-ba7b-52fd5e0c3483",
        "colab": {}
      },
      "source": [
        "list('1457')"
      ],
      "execution_count": 0,
      "outputs": [
        {
          "output_type": "execute_result",
          "data": {
            "text/plain": [
              "['1', '4', '5', '7']"
            ]
          },
          "metadata": {
            "tags": []
          },
          "execution_count": 99
        }
      ]
    },
    {
      "cell_type": "markdown",
      "metadata": {
        "id": "_VkzZoe00WaN",
        "colab_type": "text"
      },
      "source": [
        "Para los diccionarios, `list` sólo extrae las claves y no los valores"
      ]
    },
    {
      "cell_type": "code",
      "metadata": {
        "id": "vJVAgVTf0WaN",
        "colab_type": "code",
        "outputId": "ed14cf31-2830-4bca-ab64-5b500953da34",
        "colab": {}
      },
      "source": [
        "list({'a': 12, 'b': 5})"
      ],
      "execution_count": 0,
      "outputs": [
        {
          "output_type": "execute_result",
          "data": {
            "text/plain": [
              "['a', 'b']"
            ]
          },
          "metadata": {
            "tags": []
          },
          "execution_count": 100
        }
      ]
    },
    {
      "cell_type": "markdown",
      "metadata": {
        "id": "xu66s9Vm0WaO",
        "colab_type": "text"
      },
      "source": [
        "* **dict**: Convierte una lista de listas, donde cada una tiene dos elementos, a un diccionario."
      ]
    },
    {
      "cell_type": "code",
      "metadata": {
        "id": "E0VHO8Mo0WaQ",
        "colab_type": "code",
        "outputId": "5b29e8ca-8a9d-4a0d-899f-1b3c2aef8670",
        "colab": {}
      },
      "source": [
        "dict([[10, 'a'], [15, 't']])"
      ],
      "execution_count": 0,
      "outputs": [
        {
          "output_type": "execute_result",
          "data": {
            "text/plain": [
              "{10: 'a', 15: 't'}"
            ]
          },
          "metadata": {
            "tags": []
          },
          "execution_count": 101
        }
      ]
    }
  ]
}