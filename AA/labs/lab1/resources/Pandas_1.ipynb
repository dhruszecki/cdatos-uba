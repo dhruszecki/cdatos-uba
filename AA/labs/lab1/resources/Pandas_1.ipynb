{
 "nbformat": 4,
 "nbformat_minor": 0,
 "metadata": {
  "kernelspec": {
   "display_name": "Python 3",
   "language": "python",
   "name": "python3"
  },
  "language_info": {
   "codemirror_mode": {
    "name": "ipython",
    "version": 3
   },
   "file_extension": ".py",
   "mimetype": "text/x-python",
   "name": "python",
   "nbconvert_exporter": "python",
   "pygments_lexer": "ipython3",
   "version": "3.7.6"
  },
  "colab": {
   "name": "Pandas (1).ipynb",
   "provenance": [],
   "collapsed_sections": [],
   "toc_visible": true
  }
 },
 "cells": [
  {
   "cell_type": "markdown",
   "metadata": {
    "colab_type": "text",
    "id": "CNfoNA42MR9k"
   },
   "source": [
    "# Pandas\n",
    "\n",
    "Pandas es una biblioteca de código abierto con licencia BSD que proporciona estructuras de datos y herramientas de análisis de datos de alto rendimiento y fáciles de usar para el lenguaje de programación Python.\n"
   ]
  },
  {
   "cell_type": "markdown",
   "metadata": {
    "id": "RtxguLb4MWfG",
    "colab_type": "text"
   },
   "source": [
    "## Data Frame \n",
    "El principal objeto en Pandas es el dataframe, el cual es muy similar a una planilla o tabla de Excel. Podemos crear dataframes de varias maneras:\n",
    "\n",
    "* Diccionario {Nombre columna: Valores}"
   ]
  },
  {
   "cell_type": "code",
   "metadata": {
    "id": "qPwW644lqLk9",
    "colab_type": "code",
    "outputId": "c60d981f-c483-4b52-9373-973945cc86ad",
    "colab": {
     "base_uri": "https://localhost:8080/",
     "height": 238
    }
   },
   "source": [
    "import pandas as pd\n",
    "import numpy as np\n",
    " \n",
    "name_age = {'Name' : ['Ali', 'Bill', 'David', 'Hany', 'Ibtisam'], 'Age' : [32, 55, 20, 43, 30]}\n",
    "print(type(name_age))\n",
    "data_frame = pd.DataFrame(name_age)\n",
    "print(name_age)\n",
    "data_frame.head()"
   ],
   "execution_count": 3,
   "outputs": [
    {
     "name": "stdout",
     "output_type": "stream",
     "text": [
      "<class 'dict'>\n",
      "{'Name': ['Ali', 'Bill', 'David', 'Hany', 'Ibtisam'], 'Age': [32, 55, 20, 43, 30]}\n"
     ]
    },
    {
     "data": {
      "text/plain": "      Name  Age\n0      Ali   32\n1     Bill   55\n2    David   20\n3     Hany   43\n4  Ibtisam   30",
      "text/html": "<div>\n<style scoped>\n    .dataframe tbody tr th:only-of-type {\n        vertical-align: middle;\n    }\n\n    .dataframe tbody tr th {\n        vertical-align: top;\n    }\n\n    .dataframe thead th {\n        text-align: right;\n    }\n</style>\n<table border=\"1\" class=\"dataframe\">\n  <thead>\n    <tr style=\"text-align: right;\">\n      <th></th>\n      <th>Name</th>\n      <th>Age</th>\n    </tr>\n  </thead>\n  <tbody>\n    <tr>\n      <th>0</th>\n      <td>Ali</td>\n      <td>32</td>\n    </tr>\n    <tr>\n      <th>1</th>\n      <td>Bill</td>\n      <td>55</td>\n    </tr>\n    <tr>\n      <th>2</th>\n      <td>David</td>\n      <td>20</td>\n    </tr>\n    <tr>\n      <th>3</th>\n      <td>Hany</td>\n      <td>43</td>\n    </tr>\n    <tr>\n      <th>4</th>\n      <td>Ibtisam</td>\n      <td>30</td>\n    </tr>\n  </tbody>\n</table>\n</div>"
     },
     "execution_count": 3,
     "metadata": {},
     "output_type": "execute_result"
    }
   ]
  },
  {
   "cell_type": "markdown",
   "metadata": {
    "id": "Z6Y9Qkk-nN5Y",
    "colab_type": "text"
   },
   "source": [
    "* Lista de Diccionarios: [{Columna1: valor, Columna2: valor},{Columna1: valor, Columna2: valor}]\n",
    "\n",
    "  Cada elemento de la lista corresponde a una fila"
   ]
  },
  {
   "cell_type": "code",
   "metadata": {
    "id": "oQAZgFnanu_s",
    "colab_type": "code",
    "outputId": "d6a4924c-610d-48a1-806f-cd68d2886086",
    "colab": {
     "base_uri": "https://localhost:8080/",
     "height": 221
    }
   },
   "source": [
    "name_age = [{'Name': 'Ali','Age':32},{'Name': 'Bill','Age':55},{'Name': 'David','Age':20},{'Name': 'Hany','Age':43},{'Name': 'Ibtisam','Age':30}]\n",
    "print(type(name_age))\n",
    "data_frame = pd.DataFrame(name_age)\n",
    "data_frame"
   ],
   "execution_count": 0,
   "outputs": [
    {
     "output_type": "stream",
     "text": [
      "<class 'list'>\n"
     ],
     "name": "stdout"
    },
    {
     "output_type": "execute_result",
     "data": {
      "text/html": [
       "<div>\n",
       "<style scoped>\n",
       "    .dataframe tbody tr th:only-of-type {\n",
       "        vertical-align: middle;\n",
       "    }\n",
       "\n",
       "    .dataframe tbody tr th {\n",
       "        vertical-align: top;\n",
       "    }\n",
       "\n",
       "    .dataframe thead th {\n",
       "        text-align: right;\n",
       "    }\n",
       "</style>\n",
       "<table border=\"1\" class=\"dataframe\">\n",
       "  <thead>\n",
       "    <tr style=\"text-align: right;\">\n",
       "      <th></th>\n",
       "      <th>Name</th>\n",
       "      <th>Age</th>\n",
       "    </tr>\n",
       "  </thead>\n",
       "  <tbody>\n",
       "    <tr>\n",
       "      <th>0</th>\n",
       "      <td>Ali</td>\n",
       "      <td>32</td>\n",
       "    </tr>\n",
       "    <tr>\n",
       "      <th>1</th>\n",
       "      <td>Bill</td>\n",
       "      <td>55</td>\n",
       "    </tr>\n",
       "    <tr>\n",
       "      <th>2</th>\n",
       "      <td>David</td>\n",
       "      <td>20</td>\n",
       "    </tr>\n",
       "    <tr>\n",
       "      <th>3</th>\n",
       "      <td>Hany</td>\n",
       "      <td>43</td>\n",
       "    </tr>\n",
       "    <tr>\n",
       "      <th>4</th>\n",
       "      <td>Ibtisam</td>\n",
       "      <td>30</td>\n",
       "    </tr>\n",
       "  </tbody>\n",
       "</table>\n",
       "</div>"
      ],
      "text/plain": [
       "      Name  Age\n",
       "0      Ali   32\n",
       "1     Bill   55\n",
       "2    David   20\n",
       "3     Hany   43\n",
       "4  Ibtisam   30"
      ]
     },
     "metadata": {
      "tags": []
     },
     "execution_count": 5
    }
   ]
  },
  {
   "cell_type": "markdown",
   "metadata": {
    "id": "gUhdQtSQqLld",
    "colab_type": "text"
   },
   "source": [
    "## Leer un archivo CSV\n",
    "\n",
    "Otra manera de crear dataframes, es leyendo archivos con datos, en lugar de armarlos nosotros a mano. La librería pandas permite abrir y guardar los dataframes en muchos formatos distintos https://pandas.pydata.org/pandas-docs/stable/reference/io.html\n",
    "\n",
    "### Carga de Archivos\n",
    "\n",
    "Lo primero que debemos resolver es cómo subir archivos a Google Colab. Existen múltiples maneras:\n",
    "\n",
    "* Si tenemos una url, podemos descargarla directamente a Colab de la siguiente manera:"
   ]
  },
  {
   "cell_type": "code",
   "metadata": {
    "id": "ou9RKZZ-qau2",
    "colab_type": "code",
    "outputId": "b11bd79a-367e-47ce-b6ab-1e8bb66bb7ed",
    "colab": {
     "base_uri": "https://localhost:8080/",
     "height": 204
    }
   },
   "source": [
    "!wget https://web.stanford.edu/class/archive/cs/cs109/cs109.1166/stuff/titanic.csv"
   ],
   "execution_count": 0,
   "outputs": [
    {
     "output_type": "stream",
     "text": [
      "--2020-04-21 00:16:52--  https://web.stanford.edu/class/archive/cs/cs109/cs109.1166/stuff/titanic.csv\n",
      "Resolving web.stanford.edu (web.stanford.edu)... 171.67.215.200\n",
      "Connecting to web.stanford.edu (web.stanford.edu)|171.67.215.200|:443... connected.\n",
      "HTTP request sent, awaiting response... 200 OK\n",
      "Length: 44225 (43K) [text/csv]\n",
      "Saving to: ‘titanic.csv.1’\n",
      "\n",
      "\rtitanic.csv.1         0%[                    ]       0  --.-KB/s               \rtitanic.csv.1       100%[===================>]  43.19K  --.-KB/s    in 0.04s   \n",
      "\n",
      "2020-04-21 00:16:52 (1.09 MB/s) - ‘titanic.csv.1’ saved [44225/44225]\n",
      "\n"
     ],
     "name": "stdout"
    }
   ]
  },
  {
   "cell_type": "markdown",
   "metadata": {
    "id": "_Gc5ilIeKF1i",
    "colab_type": "text"
   },
   "source": [
    "* Otra opción es subir el archivo manualmente:"
   ]
  },
  {
   "cell_type": "code",
   "metadata": {
    "id": "X-iVr6EyJ9iS",
    "colab_type": "code",
    "outputId": "229ed272-cf11-4f65-8deb-d1de299d7521",
    "colab": {
     "resources": {
      "http://localhost:8080/nbextensions/google.colab/files.js": {
       "data": "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",
       "ok": true,
       "headers": [
        [
         "content-type",
         "application/javascript"
        ]
       ],
       "status": 200,
       "status_text": ""
      }
     },
     "base_uri": "https://localhost:8080/",
     "height": 363
    }
   },
   "source": [
    "from google.colab import files\n",
    "\n",
    "uploaded=files.upload()"
   ],
   "execution_count": 0,
   "outputs": [
    {
     "output_type": "display_data",
     "data": {
      "text/html": [
       "\n",
       "     <input type=\"file\" id=\"files-dcc17a5e-4082-4097-a675-8d257f7f3a54\" name=\"files[]\" multiple disabled />\n",
       "     <output id=\"result-dcc17a5e-4082-4097-a675-8d257f7f3a54\">\n",
       "      Upload widget is only available when the cell has been executed in the\n",
       "      current browser session. Please rerun this cell to enable.\n",
       "      </output>\n",
       "      <script src=\"/nbextensions/google.colab/files.js\"></script> "
      ],
      "text/plain": [
       "<IPython.core.display.HTML object>"
      ]
     },
     "metadata": {
      "tags": []
     }
    },
    {
     "output_type": "error",
     "ename": "KeyboardInterrupt",
     "evalue": "ignored",
     "traceback": [
      "\u001B[0;31m---------------------------------------------------------------------------\u001B[0m",
      "\u001B[0;31mKeyboardInterrupt\u001B[0m                         Traceback (most recent call last)",
      "\u001B[0;32m<ipython-input-49-96e0112964c7>\u001B[0m in \u001B[0;36m<module>\u001B[0;34m()\u001B[0m\n\u001B[1;32m      1\u001B[0m \u001B[0;32mfrom\u001B[0m \u001B[0mgoogle\u001B[0m\u001B[0;34m.\u001B[0m\u001B[0mcolab\u001B[0m \u001B[0;32mimport\u001B[0m \u001B[0mfiles\u001B[0m\u001B[0;34m\u001B[0m\u001B[0;34m\u001B[0m\u001B[0m\n\u001B[1;32m      2\u001B[0m \u001B[0;34m\u001B[0m\u001B[0m\n\u001B[0;32m----> 3\u001B[0;31m \u001B[0muploaded\u001B[0m\u001B[0;34m=\u001B[0m\u001B[0mfiles\u001B[0m\u001B[0;34m.\u001B[0m\u001B[0mupload\u001B[0m\u001B[0;34m(\u001B[0m\u001B[0;34m)\u001B[0m\u001B[0;34m\u001B[0m\u001B[0;34m\u001B[0m\u001B[0m\n\u001B[0m",
      "\u001B[0;32m/usr/local/lib/python3.6/dist-packages/google/colab/files.py\u001B[0m in \u001B[0;36mupload\u001B[0;34m()\u001B[0m\n\u001B[1;32m     62\u001B[0m   result = _output.eval_js(\n\u001B[1;32m     63\u001B[0m       'google.colab._files._uploadFiles(\"{input_id}\", \"{output_id}\")'.format(\n\u001B[0;32m---> 64\u001B[0;31m           input_id=input_id, output_id=output_id))\n\u001B[0m\u001B[1;32m     65\u001B[0m   \u001B[0mfiles\u001B[0m \u001B[0;34m=\u001B[0m \u001B[0m_collections\u001B[0m\u001B[0;34m.\u001B[0m\u001B[0mdefaultdict\u001B[0m\u001B[0;34m(\u001B[0m\u001B[0m_six\u001B[0m\u001B[0;34m.\u001B[0m\u001B[0mbinary_type\u001B[0m\u001B[0;34m)\u001B[0m\u001B[0;34m\u001B[0m\u001B[0;34m\u001B[0m\u001B[0m\n\u001B[1;32m     66\u001B[0m   \u001B[0;31m# Mapping from original filename to filename as saved locally.\u001B[0m\u001B[0;34m\u001B[0m\u001B[0;34m\u001B[0m\u001B[0;34m\u001B[0m\u001B[0m\n",
      "\u001B[0;32m/usr/local/lib/python3.6/dist-packages/google/colab/output/_js.py\u001B[0m in \u001B[0;36meval_js\u001B[0;34m(script, ignore_result)\u001B[0m\n\u001B[1;32m     37\u001B[0m   \u001B[0;32mif\u001B[0m \u001B[0mignore_result\u001B[0m\u001B[0;34m:\u001B[0m\u001B[0;34m\u001B[0m\u001B[0;34m\u001B[0m\u001B[0m\n\u001B[1;32m     38\u001B[0m     \u001B[0;32mreturn\u001B[0m\u001B[0;34m\u001B[0m\u001B[0;34m\u001B[0m\u001B[0m\n\u001B[0;32m---> 39\u001B[0;31m   \u001B[0;32mreturn\u001B[0m \u001B[0m_message\u001B[0m\u001B[0;34m.\u001B[0m\u001B[0mread_reply_from_input\u001B[0m\u001B[0;34m(\u001B[0m\u001B[0mrequest_id\u001B[0m\u001B[0;34m)\u001B[0m\u001B[0;34m\u001B[0m\u001B[0;34m\u001B[0m\u001B[0m\n\u001B[0m\u001B[1;32m     40\u001B[0m \u001B[0;34m\u001B[0m\u001B[0m\n\u001B[1;32m     41\u001B[0m \u001B[0;34m\u001B[0m\u001B[0m\n",
      "\u001B[0;32m/usr/local/lib/python3.6/dist-packages/google/colab/_message.py\u001B[0m in \u001B[0;36mread_reply_from_input\u001B[0;34m(message_id, timeout_sec)\u001B[0m\n\u001B[1;32m     99\u001B[0m     \u001B[0mreply\u001B[0m \u001B[0;34m=\u001B[0m \u001B[0m_read_next_input_message\u001B[0m\u001B[0;34m(\u001B[0m\u001B[0;34m)\u001B[0m\u001B[0;34m\u001B[0m\u001B[0;34m\u001B[0m\u001B[0m\n\u001B[1;32m    100\u001B[0m     \u001B[0;32mif\u001B[0m \u001B[0mreply\u001B[0m \u001B[0;34m==\u001B[0m \u001B[0m_NOT_READY\u001B[0m \u001B[0;32mor\u001B[0m \u001B[0;32mnot\u001B[0m \u001B[0misinstance\u001B[0m\u001B[0;34m(\u001B[0m\u001B[0mreply\u001B[0m\u001B[0;34m,\u001B[0m \u001B[0mdict\u001B[0m\u001B[0;34m)\u001B[0m\u001B[0;34m:\u001B[0m\u001B[0;34m\u001B[0m\u001B[0;34m\u001B[0m\u001B[0m\n\u001B[0;32m--> 101\u001B[0;31m       \u001B[0mtime\u001B[0m\u001B[0;34m.\u001B[0m\u001B[0msleep\u001B[0m\u001B[0;34m(\u001B[0m\u001B[0;36m0.025\u001B[0m\u001B[0;34m)\u001B[0m\u001B[0;34m\u001B[0m\u001B[0;34m\u001B[0m\u001B[0m\n\u001B[0m\u001B[1;32m    102\u001B[0m       \u001B[0;32mcontinue\u001B[0m\u001B[0;34m\u001B[0m\u001B[0;34m\u001B[0m\u001B[0m\n\u001B[1;32m    103\u001B[0m     if (reply.get('type') == 'colab_reply' and\n",
      "\u001B[0;31mKeyboardInterrupt\u001B[0m: "
     ]
    }
   ]
  },
  {
   "cell_type": "code",
   "metadata": {
    "id": "rQ32yVbQKFYg",
    "colab_type": "code",
    "outputId": "b20d9783-34d8-4aec-c8a4-9c7370cd5554",
    "colab": {
     "base_uri": "https://localhost:8080/",
     "height": 204
    }
   },
   "source": [
    "import io\n",
    "import pandas as pd\n",
    "\n",
    "df2 = pd.read_csv('titanic.csv')\n",
    "df2.head()"
   ],
   "execution_count": 0,
   "outputs": [
    {
     "output_type": "execute_result",
     "data": {
      "text/html": [
       "<div>\n",
       "<style scoped>\n",
       "    .dataframe tbody tr th:only-of-type {\n",
       "        vertical-align: middle;\n",
       "    }\n",
       "\n",
       "    .dataframe tbody tr th {\n",
       "        vertical-align: top;\n",
       "    }\n",
       "\n",
       "    .dataframe thead th {\n",
       "        text-align: right;\n",
       "    }\n",
       "</style>\n",
       "<table border=\"1\" class=\"dataframe\">\n",
       "  <thead>\n",
       "    <tr style=\"text-align: right;\">\n",
       "      <th></th>\n",
       "      <th>Survived</th>\n",
       "      <th>Pclass</th>\n",
       "      <th>Name</th>\n",
       "      <th>Sex</th>\n",
       "      <th>Age</th>\n",
       "      <th>Siblings/Spouses Aboard</th>\n",
       "      <th>Parents/Children Aboard</th>\n",
       "      <th>Fare</th>\n",
       "    </tr>\n",
       "  </thead>\n",
       "  <tbody>\n",
       "    <tr>\n",
       "      <th>0</th>\n",
       "      <td>0</td>\n",
       "      <td>3</td>\n",
       "      <td>Mr. Owen Harris Braund</td>\n",
       "      <td>male</td>\n",
       "      <td>22.0</td>\n",
       "      <td>1</td>\n",
       "      <td>0</td>\n",
       "      <td>7.2500</td>\n",
       "    </tr>\n",
       "    <tr>\n",
       "      <th>1</th>\n",
       "      <td>1</td>\n",
       "      <td>1</td>\n",
       "      <td>Mrs. John Bradley (Florence Briggs Thayer) Cum...</td>\n",
       "      <td>female</td>\n",
       "      <td>38.0</td>\n",
       "      <td>1</td>\n",
       "      <td>0</td>\n",
       "      <td>71.2833</td>\n",
       "    </tr>\n",
       "    <tr>\n",
       "      <th>2</th>\n",
       "      <td>1</td>\n",
       "      <td>3</td>\n",
       "      <td>Miss. Laina Heikkinen</td>\n",
       "      <td>female</td>\n",
       "      <td>26.0</td>\n",
       "      <td>0</td>\n",
       "      <td>0</td>\n",
       "      <td>7.9250</td>\n",
       "    </tr>\n",
       "    <tr>\n",
       "      <th>3</th>\n",
       "      <td>1</td>\n",
       "      <td>1</td>\n",
       "      <td>Mrs. Jacques Heath (Lily May Peel) Futrelle</td>\n",
       "      <td>female</td>\n",
       "      <td>35.0</td>\n",
       "      <td>1</td>\n",
       "      <td>0</td>\n",
       "      <td>53.1000</td>\n",
       "    </tr>\n",
       "    <tr>\n",
       "      <th>4</th>\n",
       "      <td>0</td>\n",
       "      <td>3</td>\n",
       "      <td>Mr. William Henry Allen</td>\n",
       "      <td>male</td>\n",
       "      <td>35.0</td>\n",
       "      <td>0</td>\n",
       "      <td>0</td>\n",
       "      <td>8.0500</td>\n",
       "    </tr>\n",
       "  </tbody>\n",
       "</table>\n",
       "</div>"
      ],
      "text/plain": [
       "   Survived  Pclass  ... Parents/Children Aboard     Fare\n",
       "0         0       3  ...                       0   7.2500\n",
       "1         1       1  ...                       0  71.2833\n",
       "2         1       3  ...                       0   7.9250\n",
       "3         1       1  ...                       0  53.1000\n",
       "4         0       3  ...                       0   8.0500\n",
       "\n",
       "[5 rows x 8 columns]"
      ]
     },
     "metadata": {
      "tags": []
     },
     "execution_count": 55
    }
   ]
  },
  {
   "cell_type": "code",
   "metadata": {
    "id": "_Pdekut2G0bB",
    "colab_type": "code",
    "outputId": "7a3e2fbc-908d-45bc-9b4a-b94299c7a119",
    "colab": {
     "base_uri": "https://localhost:8080/",
     "height": 282
    }
   },
   "source": [
    "df2.head()\n",
    "df3=df2[['Age', 'Pclass']]\n",
    "df3.plot()"
   ],
   "execution_count": 0,
   "outputs": [
    {
     "output_type": "execute_result",
     "data": {
      "text/plain": [
       "<matplotlib.axes._subplots.AxesSubplot at 0x7f2891c28ac8>"
      ]
     },
     "metadata": {
      "tags": []
     },
     "execution_count": 58
    },
    {
     "output_type": "display_data",
     "data": {
      "image/png": "[encoded data removed]",
      "text/plain": [
       "<Figure size 432x288 with 1 Axes>"
      ]
     },
     "metadata": {
      "tags": [],
      "needs_background": "light"
     }
    }
   ]
  },
  {
   "cell_type": "code",
   "metadata": {
    "id": "HwJejRUX9wW4",
    "colab_type": "code",
    "outputId": "daccdd5e-f043-445a-d8ac-213a5e3cbbb2",
    "colab": {
     "base_uri": "https://localhost:8080/",
     "height": 282
    }
   },
   "source": [
    "df2.plot()"
   ],
   "execution_count": 0,
   "outputs": [
    {
     "output_type": "execute_result",
     "data": {
      "text/plain": [
       "<matplotlib.axes._subplots.AxesSubplot at 0x7f2892626fd0>"
      ]
     },
     "metadata": {
      "tags": []
     },
     "execution_count": 13
    },
    {
     "output_type": "display_data",
     "data": {
      "image/png": "[encoded data removed]",
      "text/plain": [
       "<Figure size 432x288 with 1 Axes>"
      ]
     },
     "metadata": {
      "tags": [],
      "needs_background": "light"
     }
    }
   ]
  },
  {
   "cell_type": "markdown",
   "metadata": {
    "id": "d0YI-bhILL7y",
    "colab_type": "text"
   },
   "source": [
    "* Por último, es posible acceder a Google Drive en colab:"
   ]
  },
  {
   "cell_type": "code",
   "metadata": {
    "id": "JxmfIOijKxqZ",
    "colab_type": "code",
    "colab": {}
   },
   "source": [
    "from google.colab import drive\n",
    "\n",
    "drive.mount('/content/gdrive')"
   ],
   "execution_count": 5,
   "outputs": [
    {
     "ename": "ModuleNotFoundError",
     "evalue": "No module named 'google'",
     "output_type": "error",
     "traceback": [
      "\u001B[0;31m---------------------------------------------------------------------------\u001B[0m",
      "\u001B[0;31mModuleNotFoundError\u001B[0m                       Traceback (most recent call last)",
      "\u001B[0;32m<ipython-input-5-216bd8605671>\u001B[0m in \u001B[0;36m<module>\u001B[0;34m\u001B[0m\n\u001B[0;32m----> 1\u001B[0;31m \u001B[0;32mfrom\u001B[0m \u001B[0mgoogle\u001B[0m\u001B[0;34m.\u001B[0m\u001B[0mcolab\u001B[0m \u001B[0;32mimport\u001B[0m \u001B[0mdrive\u001B[0m\u001B[0;34m\u001B[0m\u001B[0;34m\u001B[0m\u001B[0m\n\u001B[0m\u001B[1;32m      2\u001B[0m \u001B[0;34m\u001B[0m\u001B[0m\n\u001B[1;32m      3\u001B[0m \u001B[0mdrive\u001B[0m\u001B[0;34m.\u001B[0m\u001B[0mmount\u001B[0m\u001B[0;34m(\u001B[0m\u001B[0;34m'/content/gdrive'\u001B[0m\u001B[0;34m)\u001B[0m\u001B[0;34m\u001B[0m\u001B[0;34m\u001B[0m\u001B[0m\n\u001B[1;32m      4\u001B[0m \u001B[0;34m\u001B[0m\u001B[0m\n",
      "\u001B[0;31mModuleNotFoundError\u001B[0m: No module named 'google'"
     ]
    }
   ]
  },
  {
   "cell_type": "markdown",
   "metadata": {
    "id": "RfTnKaQtNRHy",
    "colab_type": "text"
   },
   "source": [
    "Una vez que tenemos el archivo que queremos en colab, podemos abrirlo con la función **read_csv**"
   ]
  },
  {
   "cell_type": "code",
   "metadata": {
    "id": "niYhYmjhsvtq",
    "colab_type": "code",
    "colab": {}
   },
   "source": [
    "df_alturas = pd.read_csv('/content/alturas-pesos-mils-train-checkpoint.csv')"
   ],
   "execution_count": 0,
   "outputs": []
  },
  {
   "cell_type": "markdown",
   "metadata": {
    "id": "JvHEVOTTRRoH",
    "colab_type": "text"
   },
   "source": [
    "##Visualización y manipulación de Data Frames\n",
    "\n",
    "El dataframe podría contener miles de filas. Si queremos mostrar sólo las N primeras, podemos usar el método **head(N)**"
   ]
  },
  {
   "cell_type": "code",
   "metadata": {
    "id": "tnO4Cl3yqLlg",
    "colab_type": "code",
    "outputId": "09de7477-d7b8-4865-b42c-3eea353902b5",
    "colab": {
     "base_uri": "https://localhost:8080/",
     "height": 142
    }
   },
   "source": [
    "\n",
    "df_alturas.head(3)"
   ],
   "execution_count": 0,
   "outputs": [
    {
     "output_type": "execute_result",
     "data": {
      "text/html": [
       "<div>\n",
       "<style scoped>\n",
       "    .dataframe tbody tr th:only-of-type {\n",
       "        vertical-align: middle;\n",
       "    }\n",
       "\n",
       "    .dataframe tbody tr th {\n",
       "        vertical-align: top;\n",
       "    }\n",
       "\n",
       "    .dataframe thead th {\n",
       "        text-align: right;\n",
       "    }\n",
       "</style>\n",
       "<table border=\"1\" class=\"dataframe\">\n",
       "  <thead>\n",
       "    <tr style=\"text-align: right;\">\n",
       "      <th></th>\n",
       "      <th>Unnamed: 0</th>\n",
       "      <th>Genero</th>\n",
       "      <th>Peso</th>\n",
       "      <th>Altura</th>\n",
       "    </tr>\n",
       "  </thead>\n",
       "  <tbody>\n",
       "    <tr>\n",
       "      <th>0</th>\n",
       "      <td>7620</td>\n",
       "      <td>Mujer</td>\n",
       "      <td>61.235</td>\n",
       "      <td>162.402</td>\n",
       "    </tr>\n",
       "    <tr>\n",
       "      <th>1</th>\n",
       "      <td>1837</td>\n",
       "      <td>Hombre</td>\n",
       "      <td>97.432</td>\n",
       "      <td>181.908</td>\n",
       "    </tr>\n",
       "    <tr>\n",
       "      <th>2</th>\n",
       "      <td>3311</td>\n",
       "      <td>Hombre</td>\n",
       "      <td>73.324</td>\n",
       "      <td>172.459</td>\n",
       "    </tr>\n",
       "  </tbody>\n",
       "</table>\n",
       "</div>"
      ],
      "text/plain": [
       "   Unnamed: 0  Genero    Peso   Altura\n",
       "0        7620   Mujer  61.235  162.402\n",
       "1        1837  Hombre  97.432  181.908\n",
       "2        3311  Hombre  73.324  172.459"
      ]
     },
     "metadata": {
      "tags": []
     },
     "execution_count": 20
    }
   ]
  },
  {
   "cell_type": "code",
   "metadata": {
    "id": "h_uXONua-ge3",
    "colab_type": "code",
    "outputId": "fe47fdd6-83e2-48b9-f97c-d36a4a6f60b0",
    "colab": {
     "base_uri": "https://localhost:8080/",
     "height": 282
    }
   },
   "source": [
    "df_alturas.plot()"
   ],
   "execution_count": 0,
   "outputs": [
    {
     "output_type": "execute_result",
     "data": {
      "text/plain": [
       "<matplotlib.axes._subplots.AxesSubplot at 0x7f289253de48>"
      ]
     },
     "metadata": {
      "tags": []
     },
     "execution_count": 21
    },
    {
     "output_type": "display_data",
     "data": {
      "image/png": "[encoded data removed]",
      "text/plain": [
       "<Figure size 432x288 with 1 Axes>"
      ]
     },
     "metadata": {
      "tags": [],
      "needs_background": "light"
     }
    }
   ]
  },
  {
   "cell_type": "markdown",
   "metadata": {
    "id": "AJmB6P-FRo8z",
    "colab_type": "text"
   },
   "source": [
    "También podemos ver las N últimas con **tail(N)**:"
   ]
  },
  {
   "cell_type": "code",
   "metadata": {
    "id": "s6dAWosFRx2C",
    "colab_type": "code",
    "outputId": "74ec1eea-ce47-4ad1-808e-664b7f22adc5",
    "colab": {
     "base_uri": "https://localhost:8080/",
     "height": 142
    }
   },
   "source": [
    "df_alturas.tail(3)"
   ],
   "execution_count": 0,
   "outputs": [
    {
     "output_type": "execute_result",
     "data": {
      "text/html": [
       "<div>\n",
       "<style scoped>\n",
       "    .dataframe tbody tr th:only-of-type {\n",
       "        vertical-align: middle;\n",
       "    }\n",
       "\n",
       "    .dataframe tbody tr th {\n",
       "        vertical-align: top;\n",
       "    }\n",
       "\n",
       "    .dataframe thead th {\n",
       "        text-align: right;\n",
       "    }\n",
       "</style>\n",
       "<table border=\"1\" class=\"dataframe\">\n",
       "  <thead>\n",
       "    <tr style=\"text-align: right;\">\n",
       "      <th></th>\n",
       "      <th>Unnamed: 0</th>\n",
       "      <th>Genero</th>\n",
       "      <th>Peso</th>\n",
       "      <th>Altura</th>\n",
       "    </tr>\n",
       "  </thead>\n",
       "  <tbody>\n",
       "    <tr>\n",
       "      <th>7997</th>\n",
       "      <td>3476</td>\n",
       "      <td>Hombre</td>\n",
       "      <td>75.461</td>\n",
       "      <td>170.910</td>\n",
       "    </tr>\n",
       "    <tr>\n",
       "      <th>7998</th>\n",
       "      <td>7084</td>\n",
       "      <td>Mujer</td>\n",
       "      <td>65.461</td>\n",
       "      <td>166.137</td>\n",
       "    </tr>\n",
       "    <tr>\n",
       "      <th>7999</th>\n",
       "      <td>3346</td>\n",
       "      <td>Hombre</td>\n",
       "      <td>80.323</td>\n",
       "      <td>171.575</td>\n",
       "    </tr>\n",
       "  </tbody>\n",
       "</table>\n",
       "</div>"
      ],
      "text/plain": [
       "      Unnamed: 0  Genero    Peso   Altura\n",
       "7997        3476  Hombre  75.461  170.910\n",
       "7998        7084   Mujer  65.461  166.137\n",
       "7999        3346  Hombre  80.323  171.575"
      ]
     },
     "metadata": {
      "tags": []
     },
     "execution_count": 22
    }
   ]
  },
  {
   "cell_type": "markdown",
   "metadata": {
    "id": "51gp19vEyDZy",
    "colab_type": "text"
   },
   "source": [
    "Si queremos filtrar dataframes, es posible de la siguiente manera."
   ]
  },
  {
   "cell_type": "code",
   "metadata": {
    "id": "IzIBIBhiqLlj",
    "colab_type": "code",
    "outputId": "d0393567-779e-42a5-91a7-0f0b77fd2a95",
    "colab": {
     "base_uri": "https://localhost:8080/",
     "height": 204
    }
   },
   "source": [
    "df_alturas[df_alturas['Genero'] == 'Mujer'].head(5)"
   ],
   "execution_count": 0,
   "outputs": [
    {
     "output_type": "execute_result",
     "data": {
      "text/html": [
       "<div>\n",
       "<style scoped>\n",
       "    .dataframe tbody tr th:only-of-type {\n",
       "        vertical-align: middle;\n",
       "    }\n",
       "\n",
       "    .dataframe tbody tr th {\n",
       "        vertical-align: top;\n",
       "    }\n",
       "\n",
       "    .dataframe thead th {\n",
       "        text-align: right;\n",
       "    }\n",
       "</style>\n",
       "<table border=\"1\" class=\"dataframe\">\n",
       "  <thead>\n",
       "    <tr style=\"text-align: right;\">\n",
       "      <th></th>\n",
       "      <th>Unnamed: 0</th>\n",
       "      <th>Genero</th>\n",
       "      <th>Peso</th>\n",
       "      <th>Altura</th>\n",
       "    </tr>\n",
       "  </thead>\n",
       "  <tbody>\n",
       "    <tr>\n",
       "      <th>0</th>\n",
       "      <td>7620</td>\n",
       "      <td>Mujer</td>\n",
       "      <td>61.235</td>\n",
       "      <td>162.402</td>\n",
       "    </tr>\n",
       "    <tr>\n",
       "      <th>3</th>\n",
       "      <td>9478</td>\n",
       "      <td>Mujer</td>\n",
       "      <td>55.193</td>\n",
       "      <td>157.748</td>\n",
       "    </tr>\n",
       "    <tr>\n",
       "      <th>4</th>\n",
       "      <td>7805</td>\n",
       "      <td>Mujer</td>\n",
       "      <td>56.886</td>\n",
       "      <td>151.798</td>\n",
       "    </tr>\n",
       "    <tr>\n",
       "      <th>5</th>\n",
       "      <td>6737</td>\n",
       "      <td>Mujer</td>\n",
       "      <td>59.834</td>\n",
       "      <td>158.623</td>\n",
       "    </tr>\n",
       "    <tr>\n",
       "      <th>7</th>\n",
       "      <td>6018</td>\n",
       "      <td>Mujer</td>\n",
       "      <td>68.889</td>\n",
       "      <td>169.225</td>\n",
       "    </tr>\n",
       "  </tbody>\n",
       "</table>\n",
       "</div>"
      ],
      "text/plain": [
       "   Unnamed: 0 Genero    Peso   Altura\n",
       "0        7620  Mujer  61.235  162.402\n",
       "3        9478  Mujer  55.193  157.748\n",
       "4        7805  Mujer  56.886  151.798\n",
       "5        6737  Mujer  59.834  158.623\n",
       "7        6018  Mujer  68.889  169.225"
      ]
     },
     "metadata": {
      "tags": []
     },
     "execution_count": 25
    }
   ]
  },
  {
   "cell_type": "markdown",
   "metadata": {
    "id": "e72rYyk0yPdS",
    "colab_type": "text"
   },
   "source": [
    "En este caso,\n",
    "```\n",
    "df['Genero'] == 'Mujer'\n",
    "```\n",
    "genera un objeto Series con True en donde se cumple la condición y False donde no. Luego podemos quedarnos con solo las filas que cumplen la condición indexando el dataframe con este Series resultante."
   ]
  },
  {
   "cell_type": "markdown",
   "metadata": {
    "id": "T7HbDCE-zKT8",
    "colab_type": "text"
   },
   "source": [
    "Podemos combinar múltiples condiciones usando operadores lógicos:"
   ]
  },
  {
   "cell_type": "code",
   "metadata": {
    "id": "RPtpFR6yzQaK",
    "colab_type": "code",
    "outputId": "2f5fbe84-aa22-4687-a3b7-c62f24d76753",
    "colab": {
     "base_uri": "https://localhost:8080/",
     "height": 204
    }
   },
   "source": [
    "df_alturas[(df_alturas['Genero'] == 'Mujer') & (df_alturas['Altura'] > 170)].head(5)"
   ],
   "execution_count": 0,
   "outputs": [
    {
     "output_type": "execute_result",
     "data": {
      "text/html": [
       "<div>\n",
       "<style scoped>\n",
       "    .dataframe tbody tr th:only-of-type {\n",
       "        vertical-align: middle;\n",
       "    }\n",
       "\n",
       "    .dataframe tbody tr th {\n",
       "        vertical-align: top;\n",
       "    }\n",
       "\n",
       "    .dataframe thead th {\n",
       "        text-align: right;\n",
       "    }\n",
       "</style>\n",
       "<table border=\"1\" class=\"dataframe\">\n",
       "  <thead>\n",
       "    <tr style=\"text-align: right;\">\n",
       "      <th></th>\n",
       "      <th>Unnamed: 0</th>\n",
       "      <th>Genero</th>\n",
       "      <th>Peso</th>\n",
       "      <th>Altura</th>\n",
       "    </tr>\n",
       "  </thead>\n",
       "  <tbody>\n",
       "    <tr>\n",
       "      <th>36</th>\n",
       "      <td>8629</td>\n",
       "      <td>Mujer</td>\n",
       "      <td>78.480</td>\n",
       "      <td>174.042</td>\n",
       "    </tr>\n",
       "    <tr>\n",
       "      <th>51</th>\n",
       "      <td>6930</td>\n",
       "      <td>Mujer</td>\n",
       "      <td>80.265</td>\n",
       "      <td>176.153</td>\n",
       "    </tr>\n",
       "    <tr>\n",
       "      <th>75</th>\n",
       "      <td>9633</td>\n",
       "      <td>Mujer</td>\n",
       "      <td>91.056</td>\n",
       "      <td>177.523</td>\n",
       "    </tr>\n",
       "    <tr>\n",
       "      <th>76</th>\n",
       "      <td>8934</td>\n",
       "      <td>Mujer</td>\n",
       "      <td>69.333</td>\n",
       "      <td>172.203</td>\n",
       "    </tr>\n",
       "    <tr>\n",
       "      <th>84</th>\n",
       "      <td>5810</td>\n",
       "      <td>Mujer</td>\n",
       "      <td>78.815</td>\n",
       "      <td>173.070</td>\n",
       "    </tr>\n",
       "  </tbody>\n",
       "</table>\n",
       "</div>"
      ],
      "text/plain": [
       "    Unnamed: 0 Genero    Peso   Altura\n",
       "36        8629  Mujer  78.480  174.042\n",
       "51        6930  Mujer  80.265  176.153\n",
       "75        9633  Mujer  91.056  177.523\n",
       "76        8934  Mujer  69.333  172.203\n",
       "84        5810  Mujer  78.815  173.070"
      ]
     },
     "metadata": {
      "tags": []
     },
     "execution_count": 27
    }
   ]
  },
  {
   "cell_type": "markdown",
   "metadata": {
    "id": "PlESNvwHz2cC",
    "colab_type": "text"
   },
   "source": [
    "Otra cosa que podemos hacer es deshacernos de una columna que no nos sirva."
   ]
  },
  {
   "cell_type": "code",
   "metadata": {
    "id": "EGq-IQwFz_vb",
    "colab_type": "code",
    "outputId": "b31dff4b-3677-4374-fef6-7c0be399b385",
    "colab": {
     "base_uri": "https://localhost:8080/",
     "height": 419
    }
   },
   "source": [
    "df_alturas = df_alturas.drop('Unnamed: 0', axis=1)\n",
    "df_alturas"
   ],
   "execution_count": 0,
   "outputs": [
    {
     "output_type": "execute_result",
     "data": {
      "text/html": [
       "<div>\n",
       "<style scoped>\n",
       "    .dataframe tbody tr th:only-of-type {\n",
       "        vertical-align: middle;\n",
       "    }\n",
       "\n",
       "    .dataframe tbody tr th {\n",
       "        vertical-align: top;\n",
       "    }\n",
       "\n",
       "    .dataframe thead th {\n",
       "        text-align: right;\n",
       "    }\n",
       "</style>\n",
       "<table border=\"1\" class=\"dataframe\">\n",
       "  <thead>\n",
       "    <tr style=\"text-align: right;\">\n",
       "      <th></th>\n",
       "      <th>Genero</th>\n",
       "      <th>Peso</th>\n",
       "      <th>Altura</th>\n",
       "    </tr>\n",
       "  </thead>\n",
       "  <tbody>\n",
       "    <tr>\n",
       "      <th>0</th>\n",
       "      <td>Mujer</td>\n",
       "      <td>61.235</td>\n",
       "      <td>162.402</td>\n",
       "    </tr>\n",
       "    <tr>\n",
       "      <th>1</th>\n",
       "      <td>Hombre</td>\n",
       "      <td>97.432</td>\n",
       "      <td>181.908</td>\n",
       "    </tr>\n",
       "    <tr>\n",
       "      <th>2</th>\n",
       "      <td>Hombre</td>\n",
       "      <td>73.324</td>\n",
       "      <td>172.459</td>\n",
       "    </tr>\n",
       "    <tr>\n",
       "      <th>3</th>\n",
       "      <td>Mujer</td>\n",
       "      <td>55.193</td>\n",
       "      <td>157.748</td>\n",
       "    </tr>\n",
       "    <tr>\n",
       "      <th>4</th>\n",
       "      <td>Mujer</td>\n",
       "      <td>56.886</td>\n",
       "      <td>151.798</td>\n",
       "    </tr>\n",
       "    <tr>\n",
       "      <th>...</th>\n",
       "      <td>...</td>\n",
       "      <td>...</td>\n",
       "      <td>...</td>\n",
       "    </tr>\n",
       "    <tr>\n",
       "      <th>7995</th>\n",
       "      <td>Mujer</td>\n",
       "      <td>62.215</td>\n",
       "      <td>160.083</td>\n",
       "    </tr>\n",
       "    <tr>\n",
       "      <th>7996</th>\n",
       "      <td>Hombre</td>\n",
       "      <td>83.840</td>\n",
       "      <td>177.866</td>\n",
       "    </tr>\n",
       "    <tr>\n",
       "      <th>7997</th>\n",
       "      <td>Hombre</td>\n",
       "      <td>75.461</td>\n",
       "      <td>170.910</td>\n",
       "    </tr>\n",
       "    <tr>\n",
       "      <th>7998</th>\n",
       "      <td>Mujer</td>\n",
       "      <td>65.461</td>\n",
       "      <td>166.137</td>\n",
       "    </tr>\n",
       "    <tr>\n",
       "      <th>7999</th>\n",
       "      <td>Hombre</td>\n",
       "      <td>80.323</td>\n",
       "      <td>171.575</td>\n",
       "    </tr>\n",
       "  </tbody>\n",
       "</table>\n",
       "<p>8000 rows × 3 columns</p>\n",
       "</div>"
      ],
      "text/plain": [
       "      Genero    Peso   Altura\n",
       "0      Mujer  61.235  162.402\n",
       "1     Hombre  97.432  181.908\n",
       "2     Hombre  73.324  172.459\n",
       "3      Mujer  55.193  157.748\n",
       "4      Mujer  56.886  151.798\n",
       "...      ...     ...      ...\n",
       "7995   Mujer  62.215  160.083\n",
       "7996  Hombre  83.840  177.866\n",
       "7997  Hombre  75.461  170.910\n",
       "7998   Mujer  65.461  166.137\n",
       "7999  Hombre  80.323  171.575\n",
       "\n",
       "[8000 rows x 3 columns]"
      ]
     },
     "metadata": {
      "tags": []
     },
     "execution_count": 28
    }
   ]
  },
  {
   "cell_type": "markdown",
   "metadata": {
    "id": "Ng_svW0sHyUc",
    "colab_type": "text"
   },
   "source": [
    "O de una fila:"
   ]
  },
  {
   "cell_type": "code",
   "metadata": {
    "id": "1qxKpCheHzjf",
    "colab_type": "code",
    "outputId": "4a822db2-34c7-4187-965d-14500334985b",
    "colab": {
     "base_uri": "https://localhost:8080/",
     "height": 419
    }
   },
   "source": [
    "df_alturas.drop(2)"
   ],
   "execution_count": 0,
   "outputs": [
    {
     "output_type": "execute_result",
     "data": {
      "text/html": [
       "<div>\n",
       "<style scoped>\n",
       "    .dataframe tbody tr th:only-of-type {\n",
       "        vertical-align: middle;\n",
       "    }\n",
       "\n",
       "    .dataframe tbody tr th {\n",
       "        vertical-align: top;\n",
       "    }\n",
       "\n",
       "    .dataframe thead th {\n",
       "        text-align: right;\n",
       "    }\n",
       "</style>\n",
       "<table border=\"1\" class=\"dataframe\">\n",
       "  <thead>\n",
       "    <tr style=\"text-align: right;\">\n",
       "      <th></th>\n",
       "      <th>Genero</th>\n",
       "      <th>Peso</th>\n",
       "      <th>Altura</th>\n",
       "    </tr>\n",
       "  </thead>\n",
       "  <tbody>\n",
       "    <tr>\n",
       "      <th>0</th>\n",
       "      <td>Mujer</td>\n",
       "      <td>61.235</td>\n",
       "      <td>162.402</td>\n",
       "    </tr>\n",
       "    <tr>\n",
       "      <th>1</th>\n",
       "      <td>Hombre</td>\n",
       "      <td>97.432</td>\n",
       "      <td>181.908</td>\n",
       "    </tr>\n",
       "    <tr>\n",
       "      <th>3</th>\n",
       "      <td>Mujer</td>\n",
       "      <td>55.193</td>\n",
       "      <td>157.748</td>\n",
       "    </tr>\n",
       "    <tr>\n",
       "      <th>4</th>\n",
       "      <td>Mujer</td>\n",
       "      <td>56.886</td>\n",
       "      <td>151.798</td>\n",
       "    </tr>\n",
       "    <tr>\n",
       "      <th>5</th>\n",
       "      <td>Mujer</td>\n",
       "      <td>59.834</td>\n",
       "      <td>158.623</td>\n",
       "    </tr>\n",
       "    <tr>\n",
       "      <th>...</th>\n",
       "      <td>...</td>\n",
       "      <td>...</td>\n",
       "      <td>...</td>\n",
       "    </tr>\n",
       "    <tr>\n",
       "      <th>7995</th>\n",
       "      <td>Mujer</td>\n",
       "      <td>62.215</td>\n",
       "      <td>160.083</td>\n",
       "    </tr>\n",
       "    <tr>\n",
       "      <th>7996</th>\n",
       "      <td>Hombre</td>\n",
       "      <td>83.840</td>\n",
       "      <td>177.866</td>\n",
       "    </tr>\n",
       "    <tr>\n",
       "      <th>7997</th>\n",
       "      <td>Hombre</td>\n",
       "      <td>75.461</td>\n",
       "      <td>170.910</td>\n",
       "    </tr>\n",
       "    <tr>\n",
       "      <th>7998</th>\n",
       "      <td>Mujer</td>\n",
       "      <td>65.461</td>\n",
       "      <td>166.137</td>\n",
       "    </tr>\n",
       "    <tr>\n",
       "      <th>7999</th>\n",
       "      <td>Hombre</td>\n",
       "      <td>80.323</td>\n",
       "      <td>171.575</td>\n",
       "    </tr>\n",
       "  </tbody>\n",
       "</table>\n",
       "<p>7999 rows × 3 columns</p>\n",
       "</div>"
      ],
      "text/plain": [
       "      Genero    Peso   Altura\n",
       "0      Mujer  61.235  162.402\n",
       "1     Hombre  97.432  181.908\n",
       "3      Mujer  55.193  157.748\n",
       "4      Mujer  56.886  151.798\n",
       "5      Mujer  59.834  158.623\n",
       "...      ...     ...      ...\n",
       "7995   Mujer  62.215  160.083\n",
       "7996  Hombre  83.840  177.866\n",
       "7997  Hombre  75.461  170.910\n",
       "7998   Mujer  65.461  166.137\n",
       "7999  Hombre  80.323  171.575\n",
       "\n",
       "[7999 rows x 3 columns]"
      ]
     },
     "metadata": {
      "tags": []
     },
     "execution_count": 29
    }
   ]
  },
  {
   "cell_type": "markdown",
   "metadata": {
    "id": "XBr4ElvV0duL",
    "colab_type": "text"
   },
   "source": [
    "Y ordenar de otra manera las columnas que tenemos"
   ]
  },
  {
   "cell_type": "code",
   "metadata": {
    "id": "upx-7vpb0YXE",
    "colab_type": "code",
    "outputId": "ce6f1f97-4f85-48e2-932f-ed925f1d2c26",
    "colab": {
     "base_uri": "https://localhost:8080/",
     "height": 204
    }
   },
   "source": [
    "df_alturas[['Peso','Altura','Genero']].head(5)"
   ],
   "execution_count": 0,
   "outputs": [
    {
     "output_type": "execute_result",
     "data": {
      "text/html": [
       "<div>\n",
       "<style scoped>\n",
       "    .dataframe tbody tr th:only-of-type {\n",
       "        vertical-align: middle;\n",
       "    }\n",
       "\n",
       "    .dataframe tbody tr th {\n",
       "        vertical-align: top;\n",
       "    }\n",
       "\n",
       "    .dataframe thead th {\n",
       "        text-align: right;\n",
       "    }\n",
       "</style>\n",
       "<table border=\"1\" class=\"dataframe\">\n",
       "  <thead>\n",
       "    <tr style=\"text-align: right;\">\n",
       "      <th></th>\n",
       "      <th>Peso</th>\n",
       "      <th>Altura</th>\n",
       "      <th>Genero</th>\n",
       "    </tr>\n",
       "  </thead>\n",
       "  <tbody>\n",
       "    <tr>\n",
       "      <th>0</th>\n",
       "      <td>61.235</td>\n",
       "      <td>162.402</td>\n",
       "      <td>Mujer</td>\n",
       "    </tr>\n",
       "    <tr>\n",
       "      <th>1</th>\n",
       "      <td>97.432</td>\n",
       "      <td>181.908</td>\n",
       "      <td>Hombre</td>\n",
       "    </tr>\n",
       "    <tr>\n",
       "      <th>2</th>\n",
       "      <td>73.324</td>\n",
       "      <td>172.459</td>\n",
       "      <td>Hombre</td>\n",
       "    </tr>\n",
       "    <tr>\n",
       "      <th>3</th>\n",
       "      <td>55.193</td>\n",
       "      <td>157.748</td>\n",
       "      <td>Mujer</td>\n",
       "    </tr>\n",
       "    <tr>\n",
       "      <th>4</th>\n",
       "      <td>56.886</td>\n",
       "      <td>151.798</td>\n",
       "      <td>Mujer</td>\n",
       "    </tr>\n",
       "  </tbody>\n",
       "</table>\n",
       "</div>"
      ],
      "text/plain": [
       "     Peso   Altura  Genero\n",
       "0  61.235  162.402   Mujer\n",
       "1  97.432  181.908  Hombre\n",
       "2  73.324  172.459  Hombre\n",
       "3  55.193  157.748   Mujer\n",
       "4  56.886  151.798   Mujer"
      ]
     },
     "metadata": {
      "tags": []
     },
     "execution_count": 30
    }
   ]
  },
  {
   "cell_type": "markdown",
   "metadata": {
    "id": "jow6LE6sIpnG",
    "colab_type": "text"
   },
   "source": [
    "Puede que nuestros datos tengan entradas duplicadas. Es fácil detectarlas usando el método **duplicated()** y borrarlas usando **drop_duplicates()**"
   ]
  },
  {
   "cell_type": "code",
   "metadata": {
    "id": "AB0aDIF8IqfJ",
    "colab_type": "code",
    "outputId": "8ecd9639-6475-425b-fa1c-3bb3fa80d5ea",
    "colab": {
     "base_uri": "https://localhost:8080/",
     "height": 476
    }
   },
   "source": [
    "frame_data = {'name': ['James', 'Jason', 'Rogers', 'Jason'], 'age': [18, 20, 22, 20], 'job': ['Assistant', 'Manager', 'Clerk', 'Manager']}\n",
    "df = pd.DataFrame(frame_data)\n",
    "print('Dataframe original\\n')\n",
    "print(df)\n",
    "print('\\n¿Está duplicado?\\n')\n",
    "print(df.duplicated())\n",
    "print('\\nEntradas duplicadas\\n')\n",
    "print(df[df.duplicated()])\n",
    "print('\\nDataframe sin entradas duplicadas\\n')\n",
    "print(df.drop_duplicates())"
   ],
   "execution_count": 4,
   "outputs": [
    {
     "name": "stdout",
     "output_type": "stream",
     "text": [
      "Dataframe original\n",
      "\n",
      "     name  age        job\n",
      "0   James   18  Assistant\n",
      "1   Jason   20    Manager\n",
      "2  Rogers   22      Clerk\n",
      "3   Jason   20    Manager\n",
      "\n",
      "¿Está duplicado?\n",
      "\n",
      "0    False\n",
      "1    False\n",
      "2    False\n",
      "3     True\n",
      "dtype: bool\n",
      "\n",
      "Entradas duplicadas\n",
      "\n",
      "    name  age      job\n",
      "3  Jason   20  Manager\n",
      "\n",
      "Dataframe sin entradas duplicadas\n",
      "\n",
      "     name  age        job\n",
      "0   James   18  Assistant\n",
      "1   Jason   20    Manager\n",
      "2  Rogers   22      Clerk\n"
     ]
    }
   ]
  },
  {
   "cell_type": "markdown",
   "metadata": {
    "id": "3-MhRoe101P9",
    "colab_type": "text"
   },
   "source": [
    "Un método útil es describe(), el cual hace un resumen estadístico de los datos"
   ]
  },
  {
   "cell_type": "code",
   "metadata": {
    "id": "KLysNAC1qLlq",
    "colab_type": "code",
    "outputId": "694572c5-48dc-401c-cee6-5630b1224f6b",
    "colab": {
     "base_uri": "https://localhost:8080/",
     "height": 297
    }
   },
   "source": [
    "df_alturas.describe()"
   ],
   "execution_count": 0,
   "outputs": [
    {
     "output_type": "execute_result",
     "data": {
      "text/html": [
       "<div>\n",
       "<style scoped>\n",
       "    .dataframe tbody tr th:only-of-type {\n",
       "        vertical-align: middle;\n",
       "    }\n",
       "\n",
       "    .dataframe tbody tr th {\n",
       "        vertical-align: top;\n",
       "    }\n",
       "\n",
       "    .dataframe thead th {\n",
       "        text-align: right;\n",
       "    }\n",
       "</style>\n",
       "<table border=\"1\" class=\"dataframe\">\n",
       "  <thead>\n",
       "    <tr style=\"text-align: right;\">\n",
       "      <th></th>\n",
       "      <th>Peso</th>\n",
       "      <th>Altura</th>\n",
       "    </tr>\n",
       "  </thead>\n",
       "  <tbody>\n",
       "    <tr>\n",
       "      <th>count</th>\n",
       "      <td>8000.000000</td>\n",
       "      <td>8000.000000</td>\n",
       "    </tr>\n",
       "    <tr>\n",
       "      <th>mean</th>\n",
       "      <td>72.802476</td>\n",
       "      <td>168.113424</td>\n",
       "    </tr>\n",
       "    <tr>\n",
       "      <th>std</th>\n",
       "      <td>14.624699</td>\n",
       "      <td>9.829018</td>\n",
       "    </tr>\n",
       "    <tr>\n",
       "      <th>min</th>\n",
       "      <td>31.207000</td>\n",
       "      <td>138.866000</td>\n",
       "    </tr>\n",
       "    <tr>\n",
       "      <th>25%</th>\n",
       "      <td>61.071750</td>\n",
       "      <td>160.765750</td>\n",
       "    </tr>\n",
       "    <tr>\n",
       "      <th>50%</th>\n",
       "      <td>72.748500</td>\n",
       "      <td>167.976500</td>\n",
       "    </tr>\n",
       "    <tr>\n",
       "      <th>75%</th>\n",
       "      <td>84.523250</td>\n",
       "      <td>175.320000</td>\n",
       "    </tr>\n",
       "    <tr>\n",
       "      <th>max</th>\n",
       "      <td>121.687000</td>\n",
       "      <td>199.824000</td>\n",
       "    </tr>\n",
       "  </tbody>\n",
       "</table>\n",
       "</div>"
      ],
      "text/plain": [
       "              Peso       Altura\n",
       "count  8000.000000  8000.000000\n",
       "mean     72.802476   168.113424\n",
       "std      14.624699     9.829018\n",
       "min      31.207000   138.866000\n",
       "25%      61.071750   160.765750\n",
       "50%      72.748500   167.976500\n",
       "75%      84.523250   175.320000\n",
       "max     121.687000   199.824000"
      ]
     },
     "metadata": {
      "tags": []
     },
     "execution_count": 33
    }
   ]
  },
  {
   "cell_type": "markdown",
   "metadata": {
    "id": "oS7DPwtV1Gke",
    "colab_type": "text"
   },
   "source": [
    "Los índices no necesariamente tienen que ser números:"
   ]
  },
  {
   "cell_type": "code",
   "metadata": {
    "id": "oEwyypDUxisy",
    "colab_type": "code",
    "outputId": "e679303d-96d9-4269-f1cc-b7ae9696c999",
    "colab": {
     "base_uri": "https://localhost:8080/",
     "height": 173
    }
   },
   "source": [
    "df.index = ['A','B','C','D']\n",
    "df"
   ],
   "execution_count": 0,
   "outputs": [
    {
     "output_type": "execute_result",
     "data": {
      "text/html": [
       "<div>\n",
       "<style scoped>\n",
       "    .dataframe tbody tr th:only-of-type {\n",
       "        vertical-align: middle;\n",
       "    }\n",
       "\n",
       "    .dataframe tbody tr th {\n",
       "        vertical-align: top;\n",
       "    }\n",
       "\n",
       "    .dataframe thead th {\n",
       "        text-align: right;\n",
       "    }\n",
       "</style>\n",
       "<table border=\"1\" class=\"dataframe\">\n",
       "  <thead>\n",
       "    <tr style=\"text-align: right;\">\n",
       "      <th></th>\n",
       "      <th>name</th>\n",
       "      <th>age</th>\n",
       "      <th>job</th>\n",
       "    </tr>\n",
       "  </thead>\n",
       "  <tbody>\n",
       "    <tr>\n",
       "      <th>A</th>\n",
       "      <td>James</td>\n",
       "      <td>18</td>\n",
       "      <td>Assistant</td>\n",
       "    </tr>\n",
       "    <tr>\n",
       "      <th>B</th>\n",
       "      <td>Jason</td>\n",
       "      <td>20</td>\n",
       "      <td>Manager</td>\n",
       "    </tr>\n",
       "    <tr>\n",
       "      <th>C</th>\n",
       "      <td>Rogers</td>\n",
       "      <td>22</td>\n",
       "      <td>Clerk</td>\n",
       "    </tr>\n",
       "    <tr>\n",
       "      <th>D</th>\n",
       "      <td>Jason</td>\n",
       "      <td>20</td>\n",
       "      <td>Manager</td>\n",
       "    </tr>\n",
       "  </tbody>\n",
       "</table>\n",
       "</div>"
      ],
      "text/plain": [
       "     name  age        job\n",
       "A   James   18  Assistant\n",
       "B   Jason   20    Manager\n",
       "C  Rogers   22      Clerk\n",
       "D   Jason   20    Manager"
      ]
     },
     "metadata": {
      "tags": []
     },
     "execution_count": 15
    }
   ]
  },
  {
   "cell_type": "markdown",
   "metadata": {
    "id": "RPk7x1bNyRm6",
    "colab_type": "text"
   },
   "source": [
    "Luego, podemos acceder a filas mediante el índice usando **.loc[]** o mediante **.iloc[]** utilizando el número de índice."
   ]
  },
  {
   "cell_type": "code",
   "metadata": {
    "id": "8fueMO2Q1LCB",
    "colab_type": "code",
    "outputId": "bf00bf4d-b00d-4dd5-f1bf-f665dc76052b",
    "colab": {
     "base_uri": "https://localhost:8080/",
     "height": 187
    }
   },
   "source": [
    "print(df.loc['B'])\n",
    "print('\\n')\n",
    "print(df.iloc[1])"
   ],
   "execution_count": 0,
   "outputs": [
    {
     "output_type": "stream",
     "text": [
      "name      Jason\n",
      "age          20\n",
      "job     Manager\n",
      "Name: B, dtype: object\n",
      "\n",
      "\n",
      "name      Jason\n",
      "age          20\n",
      "job     Manager\n",
      "Name: B, dtype: object\n"
     ],
     "name": "stdout"
    }
   ]
  },
  {
   "cell_type": "markdown",
   "metadata": {
    "id": "mXvIQxsFM-qW",
    "colab_type": "text"
   },
   "source": [
    "## Operaciones con columnas"
   ]
  },
  {
   "cell_type": "markdown",
   "metadata": {
    "colab_type": "text",
    "id": "oOca8g81y4RB"
   },
   "source": [
    "Podemos seleccionar columnas de las siguientes formas:"
   ]
  },
  {
   "cell_type": "code",
   "metadata": {
    "id": "rTR62hW7NB2g",
    "colab_type": "code",
    "outputId": "dfd92d52-b620-4d08-8f21-c2acaede2a48",
    "colab": {
     "base_uri": "https://localhost:8080/",
     "height": 459
    }
   },
   "source": [
    "print(df_alturas['Altura'])\n",
    "print('\\n')\n",
    "print(df_alturas.Altura)"
   ],
   "execution_count": 0,
   "outputs": [
    {
     "output_type": "stream",
     "text": [
      "0       162.402\n",
      "1       181.908\n",
      "2       172.459\n",
      "3       157.748\n",
      "4       151.798\n",
      "         ...   \n",
      "7995    160.083\n",
      "7996    177.866\n",
      "7997    170.910\n",
      "7998    166.137\n",
      "7999    171.575\n",
      "Name: Altura, Length: 8000, dtype: float64\n",
      "\n",
      "\n",
      "0       162.402\n",
      "1       181.908\n",
      "2       172.459\n",
      "3       157.748\n",
      "4       151.798\n",
      "         ...   \n",
      "7995    160.083\n",
      "7996    177.866\n",
      "7997    170.910\n",
      "7998    166.137\n",
      "7999    171.575\n",
      "Name: Altura, Length: 8000, dtype: float64\n"
     ],
     "name": "stdout"
    }
   ]
  },
  {
   "cell_type": "markdown",
   "metadata": {
    "id": "LrW8fHWTzFKz",
    "colab_type": "text"
   },
   "source": [
    "Si utilizamos la función de Python **type()** podemos ver que el objeto resultante es un Series:"
   ]
  },
  {
   "cell_type": "code",
   "metadata": {
    "id": "sED-M5KKzRJs",
    "colab_type": "code",
    "outputId": "a60b3c27-3ea2-48d5-b470-6f97bf0b0f15",
    "colab": {
     "base_uri": "https://localhost:8080/",
     "height": 34
    }
   },
   "source": [
    "type(df_alturas['Altura'])"
   ],
   "execution_count": 0,
   "outputs": [
    {
     "output_type": "execute_result",
     "data": {
      "text/plain": [
       "pandas.core.series.Series"
      ]
     },
     "metadata": {
      "tags": []
     },
     "execution_count": 18
    }
   ]
  },
  {
   "cell_type": "markdown",
   "metadata": {
    "id": "2grsNzCAzV8P",
    "colab_type": "text"
   },
   "source": [
    "Algunas de las cosas que se pueden hacer con Series son:\n",
    "* Operaciones como calcular promedio, desviación estándar, suma, etc..."
   ]
  },
  {
   "cell_type": "code",
   "metadata": {
    "id": "5wfO173a_1Hm",
    "colab_type": "code",
    "outputId": "bfee1db8-3271-4e0e-80c5-d200f46cecb2",
    "colab": {
     "base_uri": "https://localhost:8080/",
     "height": 34
    }
   },
   "source": [
    "promedio = df_alturas['Altura'].mean()\n",
    "promedio\n",
    "sumatoria = df_alturas['Altura'].sum()\n",
    "sumatoria"
   ],
   "execution_count": 0,
   "outputs": [
    {
     "output_type": "execute_result",
     "data": {
      "text/plain": [
       "1344907.393"
      ]
     },
     "metadata": {
      "tags": []
     },
     "execution_count": 37
    }
   ]
  },
  {
   "cell_type": "code",
   "metadata": {
    "id": "Ww5Rlrq-zqX8",
    "colab_type": "code",
    "outputId": "d35c974a-5bad-4cfd-8fe6-3aee9385db65",
    "colab": {
     "base_uri": "https://localhost:8080/",
     "height": 68
    }
   },
   "source": [
    "promedio = df_alturas['Altura'].mean()\n",
    "print('Promedio de altura: {}'.format(promedio))\n",
    "desviacion = df_alturas['Altura'].std()\n",
    "print('Desviación estándar de altura: {:.3f}'.format(desviacion))\n",
    "sumatoria = df_alturas['Altura'].sum()\n",
    "print('Suma de las alturas: {}'.format(sumatoria))"
   ],
   "execution_count": 0,
   "outputs": [
    {
     "output_type": "stream",
     "text": [
      "Promedio de altura: 168.11342412500022\n",
      "Desviación estándar de altura: 9.829\n",
      "Suma de las alturas: 1344907.393\n"
     ],
     "name": "stdout"
    }
   ]
  },
  {
   "cell_type": "markdown",
   "metadata": {
    "id": "K8FasOcF019F",
    "colab_type": "text"
   },
   "source": [
    "* Podemos obtener los valores únicos:"
   ]
  },
  {
   "cell_type": "code",
   "metadata": {
    "id": "bhwfkWDs063V",
    "colab_type": "code",
    "outputId": "31b57f8f-bc8a-430d-fb5c-4c848aa38ce2",
    "colab": {
     "base_uri": "https://localhost:8080/",
     "height": 34
    }
   },
   "source": [
    "df_alturas['Genero'].unique()"
   ],
   "execution_count": 0,
   "outputs": [
    {
     "output_type": "execute_result",
     "data": {
      "text/plain": [
       "array(['Mujer', 'Hombre'], dtype=object)"
      ]
     },
     "metadata": {
      "tags": []
     },
     "execution_count": 38
    }
   ]
  },
  {
   "cell_type": "markdown",
   "metadata": {
    "id": "9SqwpaPS1DX8",
    "colab_type": "text"
   },
   "source": [
    "* Podemos contar cuántas veces ocurre cada valor:"
   ]
  },
  {
   "cell_type": "code",
   "metadata": {
    "id": "g97VynEs1OtJ",
    "colab_type": "code",
    "outputId": "07ac080d-c0b2-4fa2-fa97-dc58d43b7f36",
    "colab": {
     "base_uri": "https://localhost:8080/",
     "height": 68
    }
   },
   "source": [
    "df_alturas['Genero'].value_counts()"
   ],
   "execution_count": 0,
   "outputs": [
    {
     "output_type": "execute_result",
     "data": {
      "text/plain": [
       "Hombre    4002\n",
       "Mujer     3998\n",
       "Name: Genero, dtype: int64"
      ]
     },
     "metadata": {
      "tags": []
     },
     "execution_count": 39
    }
   ]
  },
  {
   "cell_type": "markdown",
   "metadata": {
    "id": "2UMHq2tb4D4x",
    "colab_type": "text"
   },
   "source": [
    "* Podemos ordenar los valores:"
   ]
  },
  {
   "cell_type": "code",
   "metadata": {
    "id": "NH3d6EvK4H40",
    "colab_type": "code",
    "outputId": "aa824a84-cb88-44ca-9bd3-1ce5aa1ac17d",
    "colab": {
     "base_uri": "https://localhost:8080/",
     "height": 221
    }
   },
   "source": [
    "df_alturas['Peso'].sort_values()"
   ],
   "execution_count": 0,
   "outputs": [
    {
     "output_type": "execute_result",
     "data": {
      "text/plain": [
       "948      31.207\n",
       "32       31.783\n",
       "7727     34.876\n",
       "6528     34.971\n",
       "129      35.144\n",
       "         ...   \n",
       "5743    114.927\n",
       "2846    115.018\n",
       "622     115.459\n",
       "1083    116.483\n",
       "4744    121.687\n",
       "Name: Peso, Length: 8000, dtype: float64"
      ]
     },
     "metadata": {
      "tags": []
     },
     "execution_count": 40
    }
   ]
  },
  {
   "cell_type": "markdown",
   "metadata": {
    "id": "Q5CmC4bz1WA3",
    "colab_type": "text"
   },
   "source": [
    "* Podemos aplicar una misma función a cada elemento del Series usando **apply**. Por default, aplica la función a cada fila."
   ]
  },
  {
   "cell_type": "code",
   "metadata": {
    "id": "DgRsj6OA1pdw",
    "colab_type": "code",
    "outputId": "1fa77274-72ce-4c34-9df9-7b208cd6a9ca",
    "colab": {
     "base_uri": "https://localhost:8080/",
     "height": 221
    }
   },
   "source": [
    "df_alturas['Peso'].apply(np.sqrt)"
   ],
   "execution_count": 0,
   "outputs": [
    {
     "output_type": "execute_result",
     "data": {
      "text/plain": [
       "0       7.825280\n",
       "1       9.870765\n",
       "2       8.562943\n",
       "3       7.429199\n",
       "4       7.542281\n",
       "          ...   \n",
       "7995    7.887649\n",
       "7996    9.156419\n",
       "7997    8.686829\n",
       "7998    8.090797\n",
       "7999    8.962310\n",
       "Name: Peso, Length: 8000, dtype: float64"
      ]
     },
     "metadata": {
      "tags": []
     },
     "execution_count": 41
    }
   ]
  },
  {
   "cell_type": "markdown",
   "metadata": {
    "id": "4YK3YIZd3vkn",
    "colab_type": "text"
   },
   "source": [
    "Si cambiamos el argumento axis a 1, entonces aplicará la función a cada fila, y podremos realizar operaciones relacionando datos de columnas. En este caso, podemos calcular el índice de masa corporal:"
   ]
  },
  {
   "cell_type": "code",
   "metadata": {
    "id": "NoBx8rj11x_3",
    "colab_type": "code",
    "outputId": "54bbe879-6c9b-43f3-ba99-cf392692c3b3",
    "colab": {
     "base_uri": "https://localhost:8080/",
     "height": 221
    }
   },
   "source": [
    "imc = df_alturas.apply(lambda x: x['Peso']/x['Altura'],axis=1)\n",
    "imc"
   ],
   "execution_count": 0,
   "outputs": [
    {
     "output_type": "execute_result",
     "data": {
      "text/plain": [
       "0       0.377058\n",
       "1       0.535611\n",
       "2       0.425168\n",
       "3       0.349881\n",
       "4       0.374748\n",
       "          ...   \n",
       "7995    0.388642\n",
       "7996    0.471366\n",
       "7997    0.441525\n",
       "7998    0.394018\n",
       "7999    0.468151\n",
       "Length: 8000, dtype: float64"
      ]
     },
     "metadata": {
      "tags": []
     },
     "execution_count": 43
    }
   ]
  },
  {
   "cell_type": "markdown",
   "metadata": {
    "id": "ixqnKE684RvD",
    "colab_type": "text"
   },
   "source": [
    "Algo que nos puede interesar hacer con este dataframe es calcular el promedio de alturas, pero en vez de todo junto, agrupado por género. Pandas tiene una función llamada **groupby**, la cual es muy útil para eso:"
   ]
  },
  {
   "cell_type": "code",
   "metadata": {
    "id": "gkNoY3LB4kgV",
    "colab_type": "code",
    "outputId": "9a61b3ad-d84f-4933-f64a-4b419b619512",
    "colab": {
     "base_uri": "https://localhost:8080/",
     "height": 142
    }
   },
   "source": [
    "df_alturas.groupby('Genero').mean()"
   ],
   "execution_count": 0,
   "outputs": [
    {
     "output_type": "execute_result",
     "data": {
      "text/html": [
       "<div>\n",
       "<style scoped>\n",
       "    .dataframe tbody tr th:only-of-type {\n",
       "        vertical-align: middle;\n",
       "    }\n",
       "\n",
       "    .dataframe tbody tr th {\n",
       "        vertical-align: top;\n",
       "    }\n",
       "\n",
       "    .dataframe thead th {\n",
       "        text-align: right;\n",
       "    }\n",
       "</style>\n",
       "<table border=\"1\" class=\"dataframe\">\n",
       "  <thead>\n",
       "    <tr style=\"text-align: right;\">\n",
       "      <th></th>\n",
       "      <th>Peso</th>\n",
       "      <th>Altura</th>\n",
       "    </tr>\n",
       "    <tr>\n",
       "      <th>Genero</th>\n",
       "      <th></th>\n",
       "      <th></th>\n",
       "    </tr>\n",
       "  </thead>\n",
       "  <tbody>\n",
       "    <tr>\n",
       "      <th>Hombre</th>\n",
       "      <td>84.455398</td>\n",
       "      <td>174.915330</td>\n",
       "    </tr>\n",
       "    <tr>\n",
       "      <th>Mujer</th>\n",
       "      <td>61.137895</td>\n",
       "      <td>161.304713</td>\n",
       "    </tr>\n",
       "  </tbody>\n",
       "</table>\n",
       "</div>"
      ],
      "text/plain": [
       "             Peso      Altura\n",
       "Genero                       \n",
       "Hombre  84.455398  174.915330\n",
       "Mujer   61.137895  161.304713"
      ]
     },
     "metadata": {
      "tags": []
     },
     "execution_count": 45
    }
   ]
  },
  {
   "cell_type": "markdown",
   "metadata": {
    "id": "FBI9TfUqE1SO",
    "colab_type": "text"
   },
   "source": [
    "## Operaciones entre dataframes\n",
    "\n",
    "A modo de ejemplo, vamos a transformar el data frame en 2 separados, uno de hombres y otro de mujeres."
   ]
  },
  {
   "cell_type": "code",
   "metadata": {
    "id": "45szUatUFJ9X",
    "colab_type": "code",
    "outputId": "410d027d-a9fe-4b0c-a141-e0da4fe2aa1c",
    "colab": {
     "base_uri": "https://localhost:8080/",
     "height": 306
    }
   },
   "source": [
    "df_mujeres = df_alturas[(df_alturas['Genero'] == 'Mujer')]\n",
    "df_hombres = df_alturas[(df_alturas['Genero'] == 'Hombre')]\n",
    "\n",
    "print('Dataframe de mujeres: \\n')\n",
    "print(df_mujeres.head(5))\n",
    "print('\\nDataframe de hombres: \\n')\n",
    "print(df_hombres.head(5))"
   ],
   "execution_count": 0,
   "outputs": [
    {
     "output_type": "stream",
     "text": [
      "Dataframe de mujeres: \n",
      "\n",
      "  Genero    Peso   Altura\n",
      "0  Mujer  61.235  162.402\n",
      "3  Mujer  55.193  157.748\n",
      "4  Mujer  56.886  151.798\n",
      "5  Mujer  59.834  158.623\n",
      "7  Mujer  68.889  169.225\n",
      "\n",
      "Dataframe de hombres: \n",
      "\n",
      "    Genero    Peso   Altura\n",
      "1   Hombre  97.432  181.908\n",
      "2   Hombre  73.324  172.459\n",
      "6   Hombre  77.618  172.705\n",
      "9   Hombre  83.248  177.908\n",
      "11  Hombre  81.272  166.769\n"
     ],
     "name": "stdout"
    }
   ]
  },
  {
   "cell_type": "markdown",
   "metadata": {
    "id": "64PQJiyXFr_X",
    "colab_type": "text"
   },
   "source": [
    "Ahora vamos a usar la función **concat()** nos permite unir varios dataframes:"
   ]
  },
  {
   "cell_type": "code",
   "metadata": {
    "id": "mnGiyFtsF8LH",
    "colab_type": "code",
    "outputId": "100c8784-eca5-48d6-b7cd-81ef5521db52",
    "colab": {
     "base_uri": "https://localhost:8080/",
     "height": 419
    }
   },
   "source": [
    "df_todos = pd.concat([df_mujeres,df_hombres])\n",
    "df_todos"
   ],
   "execution_count": 0,
   "outputs": [
    {
     "output_type": "execute_result",
     "data": {
      "text/html": [
       "<div>\n",
       "<style scoped>\n",
       "    .dataframe tbody tr th:only-of-type {\n",
       "        vertical-align: middle;\n",
       "    }\n",
       "\n",
       "    .dataframe tbody tr th {\n",
       "        vertical-align: top;\n",
       "    }\n",
       "\n",
       "    .dataframe thead th {\n",
       "        text-align: right;\n",
       "    }\n",
       "</style>\n",
       "<table border=\"1\" class=\"dataframe\">\n",
       "  <thead>\n",
       "    <tr style=\"text-align: right;\">\n",
       "      <th></th>\n",
       "      <th>Genero</th>\n",
       "      <th>Peso</th>\n",
       "      <th>Altura</th>\n",
       "    </tr>\n",
       "  </thead>\n",
       "  <tbody>\n",
       "    <tr>\n",
       "      <th>0</th>\n",
       "      <td>Mujer</td>\n",
       "      <td>61.235</td>\n",
       "      <td>162.402</td>\n",
       "    </tr>\n",
       "    <tr>\n",
       "      <th>3</th>\n",
       "      <td>Mujer</td>\n",
       "      <td>55.193</td>\n",
       "      <td>157.748</td>\n",
       "    </tr>\n",
       "    <tr>\n",
       "      <th>4</th>\n",
       "      <td>Mujer</td>\n",
       "      <td>56.886</td>\n",
       "      <td>151.798</td>\n",
       "    </tr>\n",
       "    <tr>\n",
       "      <th>5</th>\n",
       "      <td>Mujer</td>\n",
       "      <td>59.834</td>\n",
       "      <td>158.623</td>\n",
       "    </tr>\n",
       "    <tr>\n",
       "      <th>7</th>\n",
       "      <td>Mujer</td>\n",
       "      <td>68.889</td>\n",
       "      <td>169.225</td>\n",
       "    </tr>\n",
       "    <tr>\n",
       "      <th>...</th>\n",
       "      <td>...</td>\n",
       "      <td>...</td>\n",
       "      <td>...</td>\n",
       "    </tr>\n",
       "    <tr>\n",
       "      <th>7993</th>\n",
       "      <td>Hombre</td>\n",
       "      <td>100.442</td>\n",
       "      <td>185.027</td>\n",
       "    </tr>\n",
       "    <tr>\n",
       "      <th>7994</th>\n",
       "      <td>Hombre</td>\n",
       "      <td>92.479</td>\n",
       "      <td>176.934</td>\n",
       "    </tr>\n",
       "    <tr>\n",
       "      <th>7996</th>\n",
       "      <td>Hombre</td>\n",
       "      <td>83.840</td>\n",
       "      <td>177.866</td>\n",
       "    </tr>\n",
       "    <tr>\n",
       "      <th>7997</th>\n",
       "      <td>Hombre</td>\n",
       "      <td>75.461</td>\n",
       "      <td>170.910</td>\n",
       "    </tr>\n",
       "    <tr>\n",
       "      <th>7999</th>\n",
       "      <td>Hombre</td>\n",
       "      <td>80.323</td>\n",
       "      <td>171.575</td>\n",
       "    </tr>\n",
       "  </tbody>\n",
       "</table>\n",
       "<p>8000 rows × 3 columns</p>\n",
       "</div>"
      ],
      "text/plain": [
       "      Genero     Peso   Altura\n",
       "0      Mujer   61.235  162.402\n",
       "3      Mujer   55.193  157.748\n",
       "4      Mujer   56.886  151.798\n",
       "5      Mujer   59.834  158.623\n",
       "7      Mujer   68.889  169.225\n",
       "...      ...      ...      ...\n",
       "7993  Hombre  100.442  185.027\n",
       "7994  Hombre   92.479  176.934\n",
       "7996  Hombre   83.840  177.866\n",
       "7997  Hombre   75.461  170.910\n",
       "7999  Hombre   80.323  171.575\n",
       "\n",
       "[8000 rows x 3 columns]"
      ]
     },
     "metadata": {
      "tags": []
     },
     "execution_count": 47
    }
   ]
  },
  {
   "cell_type": "markdown",
   "metadata": {
    "id": "Kbzh1BSmGnoA",
    "colab_type": "text"
   },
   "source": [
    "También, si dos dataframes tienen la misma estructura, es posible hacer operaciones entre ellos:"
   ]
  },
  {
   "cell_type": "code",
   "metadata": {
    "id": "YA5LXr_bG1BF",
    "colab_type": "code",
    "outputId": "9beeb3ee-5409-47c9-8ab0-4375dfc37d76",
    "colab": {
     "base_uri": "https://localhost:8080/",
     "height": 612
    }
   },
   "source": [
    "dictionary_1 = {'A' : [5, 8, 10, 3, 9], 'B' : [6, 1, 4, 8, 7]}\n",
    "dictionary_2 = {'A' : [4, 3, 7, 6, 1], 'B' : [9, 10, 10, 1, 2]}\n",
    "data_frame_1 = pd.DataFrame(dictionary_1)\n",
    "data_frame_2 = pd.DataFrame(dictionary_2)\n",
    "data_frame_suma = data_frame_1 + data_frame_2\n",
    "data_frame_resta = data_frame_1 - data_frame_2\n",
    "\n",
    "print('A\\n')\n",
    "print(data_frame_1)\n",
    "print('\\nB\\n')\n",
    "print(data_frame_2)\n",
    "print('\\nA+B\\n')\n",
    "print(data_frame_suma)\n",
    "print('\\nA-B\\n')\n",
    "print(data_frame_resta)"
   ],
   "execution_count": 0,
   "outputs": [
    {
     "output_type": "stream",
     "text": [
      "A\n",
      "\n",
      "    A  B\n",
      "0   5  6\n",
      "1   8  1\n",
      "2  10  4\n",
      "3   3  8\n",
      "4   9  7\n",
      "\n",
      "B\n",
      "\n",
      "   A   B\n",
      "0  4   9\n",
      "1  3  10\n",
      "2  7  10\n",
      "3  6   1\n",
      "4  1   2\n",
      "\n",
      "A+B\n",
      "\n",
      "    A   B\n",
      "0   9  15\n",
      "1  11  11\n",
      "2  17  14\n",
      "3   9   9\n",
      "4  10   9\n",
      "\n",
      "A-B\n",
      "\n",
      "   A  B\n",
      "0  1 -3\n",
      "1  5 -9\n",
      "2  3 -6\n",
      "3 -3  7\n",
      "4  8  5\n"
     ],
     "name": "stdout"
    }
   ]
  },
  {
   "cell_type": "markdown",
   "metadata": {
    "id": "C2H81eGCqLmD",
    "colab_type": "text"
   },
   "source": [
    "# Gráficos"
   ]
  },
  {
   "cell_type": "markdown",
   "metadata": {
    "id": "rZsjwFZEuR_D",
    "colab_type": "text"
   },
   "source": [
    "Vamos a utilizar matplotlib y seaborn, las cuales son librería para realizar gráficos, y visualizar datos sobre los pasajeros del Titanic:"
   ]
  },
  {
   "cell_type": "code",
   "metadata": {
    "id": "lyUNySIHqLmE",
    "colab_type": "code",
    "outputId": "e5f06924-513e-4a69-8299-afbb5fc1b6de",
    "colab": {
     "base_uri": "https://localhost:8080/",
     "height": 71
    }
   },
   "source": [
    "import matplotlib.pyplot as plt\n",
    "import seaborn as sns"
   ],
   "execution_count": 0,
   "outputs": [
    {
     "output_type": "stream",
     "text": [
      "/usr/local/lib/python3.6/dist-packages/statsmodels/tools/_testing.py:19: FutureWarning: pandas.util.testing is deprecated. Use the functions in the public API at pandas.testing instead.\n",
      "  import pandas.util.testing as tm\n"
     ],
     "name": "stderr"
    }
   ]
  },
  {
   "cell_type": "code",
   "metadata": {
    "id": "W_yp9ANAqLmG",
    "colab_type": "code",
    "outputId": "f1349c8a-8494-4533-ff9f-57600396d8fd",
    "colab": {
     "base_uri": "https://localhost:8080/",
     "height": 221
    }
   },
   "source": [
    "df_titanic = pd.read_csv('titanic.csv')\n",
    "print(type(df_titanic))\n",
    "\n",
    "df_titanic.head()\n",
    "df_titanic.plot()"
   ],
   "execution_count": 0,
   "outputs": [
    {
     "output_type": "stream",
     "text": [
      "<class 'pandas.core.frame.DataFrame'>\n"
     ],
     "name": "stdout"
    },
    {
     "output_type": "execute_result",
     "data": {
      "text/html": [
       "<div>\n",
       "<style scoped>\n",
       "    .dataframe tbody tr th:only-of-type {\n",
       "        vertical-align: middle;\n",
       "    }\n",
       "\n",
       "    .dataframe tbody tr th {\n",
       "        vertical-align: top;\n",
       "    }\n",
       "\n",
       "    .dataframe thead th {\n",
       "        text-align: right;\n",
       "    }\n",
       "</style>\n",
       "<table border=\"1\" class=\"dataframe\">\n",
       "  <thead>\n",
       "    <tr style=\"text-align: right;\">\n",
       "      <th></th>\n",
       "      <th>Survived</th>\n",
       "      <th>Pclass</th>\n",
       "      <th>Name</th>\n",
       "      <th>Sex</th>\n",
       "      <th>Age</th>\n",
       "      <th>Siblings/Spouses Aboard</th>\n",
       "      <th>Parents/Children Aboard</th>\n",
       "      <th>Fare</th>\n",
       "    </tr>\n",
       "  </thead>\n",
       "  <tbody>\n",
       "    <tr>\n",
       "      <th>0</th>\n",
       "      <td>0</td>\n",
       "      <td>3</td>\n",
       "      <td>Mr. Owen Harris Braund</td>\n",
       "      <td>male</td>\n",
       "      <td>22.0</td>\n",
       "      <td>1</td>\n",
       "      <td>0</td>\n",
       "      <td>7.2500</td>\n",
       "    </tr>\n",
       "    <tr>\n",
       "      <th>1</th>\n",
       "      <td>1</td>\n",
       "      <td>1</td>\n",
       "      <td>Mrs. John Bradley (Florence Briggs Thayer) Cum...</td>\n",
       "      <td>female</td>\n",
       "      <td>38.0</td>\n",
       "      <td>1</td>\n",
       "      <td>0</td>\n",
       "      <td>71.2833</td>\n",
       "    </tr>\n",
       "    <tr>\n",
       "      <th>2</th>\n",
       "      <td>1</td>\n",
       "      <td>3</td>\n",
       "      <td>Miss. Laina Heikkinen</td>\n",
       "      <td>female</td>\n",
       "      <td>26.0</td>\n",
       "      <td>0</td>\n",
       "      <td>0</td>\n",
       "      <td>7.9250</td>\n",
       "    </tr>\n",
       "    <tr>\n",
       "      <th>3</th>\n",
       "      <td>1</td>\n",
       "      <td>1</td>\n",
       "      <td>Mrs. Jacques Heath (Lily May Peel) Futrelle</td>\n",
       "      <td>female</td>\n",
       "      <td>35.0</td>\n",
       "      <td>1</td>\n",
       "      <td>0</td>\n",
       "      <td>53.1000</td>\n",
       "    </tr>\n",
       "    <tr>\n",
       "      <th>4</th>\n",
       "      <td>0</td>\n",
       "      <td>3</td>\n",
       "      <td>Mr. William Henry Allen</td>\n",
       "      <td>male</td>\n",
       "      <td>35.0</td>\n",
       "      <td>0</td>\n",
       "      <td>0</td>\n",
       "      <td>8.0500</td>\n",
       "    </tr>\n",
       "  </tbody>\n",
       "</table>\n",
       "</div>"
      ],
      "text/plain": [
       "   Survived  Pclass  ... Parents/Children Aboard     Fare\n",
       "0         0       3  ...                       0   7.2500\n",
       "1         1       1  ...                       0  71.2833\n",
       "2         1       3  ...                       0   7.9250\n",
       "3         1       1  ...                       0  53.1000\n",
       "4         0       3  ...                       0   8.0500\n",
       "\n",
       "[5 rows x 8 columns]"
      ]
     },
     "metadata": {
      "tags": []
     },
     "execution_count": 40
    }
   ]
  },
  {
   "cell_type": "code",
   "metadata": {
    "id": "oibSgdoyvLI9",
    "colab_type": "code",
    "outputId": "0e7c7741-e374-4cf1-d83d-354d0a1f220d",
    "colab": {
     "base_uri": "https://localhost:8080/",
     "height": 642
    }
   },
   "source": [
    "# Seaborn nos permite dar formatos distintos a nuestros gráficos, según si irán en un paper, charla o poster:\n",
    "sns.set_context('talk')\n",
    "\n",
    "#Creamos una grilla de 2 filas por 1 columna, con tamaño (10,10)\n",
    "fig, ax = plt.subplots(nrows=2,ncols=1,figsize=(10,10))\n",
    "n_survivors = df_titanic['Survived'].value_counts()\n",
    "sns.barplot(n_survivors.index,n_survivors.values,ax=ax[0])\n",
    "ax[0].set_title('Sobrevivieron - cuenta total')\n",
    "\n",
    "# Hay manera un poco mas amigable de interpretar datos....con porcentajes!\n",
    "perc_survivors = df_titanic['Survived'].value_counts(normalize=True)\n",
    "sns.barplot(perc_survivors.index,perc_survivors.values,ax=ax[1])\n",
    "ax[1].set_title('Sobrevivieron - porcentaje total')"
   ],
   "execution_count": 0,
   "outputs": [
    {
     "output_type": "execute_result",
     "data": {
      "text/plain": [
       "Text(0.5, 1.0, 'Sobrevivieron - porcentaje total')"
      ]
     },
     "metadata": {
      "tags": []
     },
     "execution_count": 54
    },
    {
     "output_type": "display_data",
     "data": {
      "image/png": "[encoded data removed]",
      "text/plain": [
       "<Figure size 720x720 with 2 Axes>"
      ]
     },
     "metadata": {
      "tags": [],
      "needs_background": "light"
     }
    }
   ]
  },
  {
   "cell_type": "code",
   "metadata": {
    "id": "WjFl1UWsqLmL",
    "colab_type": "code",
    "outputId": "8525bf28-2120-453f-fceb-d19c7e0ddda5",
    "colab": {
     "base_uri": "https://localhost:8080/",
     "height": 1000
    }
   },
   "source": [
    "#Sobrevivieron mas hombres o mas mujeres?\n",
    "plt.figure(figsize=(10,10))\n",
    "\n",
    "#Podemos hacer el gráfico directamente con pandas:\n",
    "df_titanic.Sex[df_titanic.Survived == 1].value_counts(normalize = True).plot(kind='barh', alpha=0.5, color='blue')\n",
    "plt.title('Sobrevivieron - Male vs Female -')\n",
    "plt.show()\n",
    "\n",
    "#Usar seaborn:\n",
    "plt.figure(figsize=(10,10))\n",
    "survivors_genre = df_titanic['Sex'][df_titanic['Survived']==1].value_counts(normalize=True)\n",
    "sns.barplot(survivors_genre.values,survivors_genre.index,orient='h')"
   ],
   "execution_count": 0,
   "outputs": [
    {
     "output_type": "display_data",
     "data": {
      "image/png": "[encoded data removed]",
      "text/plain": [
       "<Figure size 720x720 with 1 Axes>"
      ]
     },
     "metadata": {
      "tags": [],
      "needs_background": "light"
     }
    },
    {
     "output_type": "execute_result",
     "data": {
      "text/plain": [
       "<matplotlib.axes._subplots.AxesSubplot at 0x7fed1e4db0b8>"
      ]
     },
     "metadata": {
      "tags": []
     },
     "execution_count": 62
    },
    {
     "output_type": "display_data",
     "data": {
      "image/png": "[encoded data removed]",
      "text/plain": [
       "<Figure size 720x720 with 1 Axes>"
      ]
     },
     "metadata": {
      "tags": [],
      "needs_background": "light"
     }
    }
   ]
  },
  {
   "cell_type": "code",
   "metadata": {
    "id": "uc4Uv8IVqLmO",
    "colab_type": "code",
    "outputId": "efdb3b87-cbfa-4672-8385-cf58f709f785",
    "colab": {
     "base_uri": "https://localhost:8080/",
     "height": 555
    }
   },
   "source": [
    "# Que relacion hay entre sobrevivencia y edad de los sobrevivientes\n",
    "\n",
    "\n",
    "fig,ax = plt.subplots(ncols=3,nrows=1,figsize=(20,8))\n",
    "ax[0].set_title('Usando scatter plot')\n",
    "ax[0].scatter(df_titanic.Survived, df_titanic.Age, alpha=0.5, color='#808000')\n",
    "\n",
    "ax[1].set_title('Usando box plots')\n",
    "sns.boxplot(x=df_titanic.Survived,y=df_titanic.Age,ax=ax[1])\n",
    "\n",
    "ax[2].set_title('Estimando la PDF')\n",
    "survivors_ages = df_titanic[df_titanic.Survived == 1].Age\n",
    "not_survivors_ages = df_titanic[df_titanic.Survived == 0].Age\n",
    "sns.kdeplot(survivors_ages,shade=True,ax=ax[2],label='Survivors')\n",
    "sns.kdeplot(not_survivors_ages,shade=True,ax=ax[2],label='Dead')"
   ],
   "execution_count": 0,
   "outputs": [
    {
     "output_type": "execute_result",
     "data": {
      "text/plain": [
       "<matplotlib.axes._subplots.AxesSubplot at 0x7fed1baa0358>"
      ]
     },
     "metadata": {
      "tags": []
     },
     "execution_count": 71
    },
    {
     "output_type": "display_data",
     "data": {
      "image/png": "[encoded data removed]",
      "text/plain": [
       "<Figure size 1440x576 with 3 Axes>"
      ]
     },
     "metadata": {
      "tags": [],
      "needs_background": "light"
     }
    }
   ]
  },
  {
   "cell_type": "code",
   "metadata": {
    "id": "4PKTxqUXqLmP",
    "colab_type": "code",
    "outputId": "8d9db1aa-3896-4f56-d750-901199d5d844",
    "colab": {
     "base_uri": "https://localhost:8080/",
     "height": 346
    }
   },
   "source": [
    "# La clase del ticket fue un factor de sobrevivencia (si viste Titanic, ya lo sabes!)\n",
    "fig = plt.figure(figsize=(10,5))\n",
    "#colors bgrcmykw\n",
    "df_titanic.Pclass[df_titanic.Survived == 1 ].value_counts(normalize = True).plot(kind='bar', alpha=0.5, color='red')\n",
    "plt.title('Sobrevivientes por Clase de Ticket')\n",
    "plt.show()"
   ],
   "execution_count": 0,
   "outputs": [
    {
     "output_type": "display_data",
     "data": {
      "image/png": "[encoded data removed]",
      "text/plain": [
       "<Figure size 720x360 with 1 Axes>"
      ]
     },
     "metadata": {
      "tags": [],
      "needs_background": "light"
     }
    }
   ]
  },
  {
   "cell_type": "code",
   "metadata": {
    "id": "aI0F1WE_qLmS",
    "colab_type": "code",
    "outputId": "1968b105-7e46-4212-e178-b372cc3c2062",
    "colab": {
     "base_uri": "https://localhost:8080/",
     "height": 605
    }
   },
   "source": [
    "# Habra alguna relacion entre tipo de ticket y edad? (Poder Adquisitivo)\n",
    "fig = plt.figure(figsize=(20,10))\n",
    "\n",
    "for t_class in [1,2,3]:\n",
    "    df_titanic.Age[df_titanic.Pclass == t_class].plot(kind='kde')\n",
    "    \n",
    "plt.legend((\"1ra. Clase\", \"2da. Clase\", \"3ra.Clase\"))  \n",
    "plt.show()\n",
    "\n",
    "# La linea de la 1ra clase, nos muestra que el promedio de edad del comprador es de 40 annios\n",
    "# La linea de la 3ra clase, tiene un promedio mucho mas joven\n",
    "\n",
    "# Podriamos hacer una inferencia temprana y decir que los hombres que salvaron fueron \n",
    "# en su mayoria ricos y > 30 annios"
   ],
   "execution_count": 0,
   "outputs": [
    {
     "output_type": "display_data",
     "data": {
      "image/png": "[encoded data removed]",
      "text/plain": [
       "<Figure size 1440x720 with 1 Axes>"
      ]
     },
     "metadata": {
      "tags": [],
      "needs_background": "light"
     }
    }
   ]
  },
  {
   "cell_type": "code",
   "metadata": {
    "id": "0wx6h91m3xiL",
    "colab_type": "code",
    "outputId": "53099a2f-2a33-42e7-b6c8-efbb1fd9ac02",
    "colab": {
     "base_uri": "https://localhost:8080/",
     "height": 644
    }
   },
   "source": [
    "#Otra forma de mostrar densidades a medio camino entre hacer Kernel Density Estimation y usar Box and Whisker plots, son los violin plots:\n",
    "plt.figure(figsize=(20,10))\n",
    "df_survivors = df_titanic[df_titanic.Survived == 1]\n",
    "sns.violinplot(x=df_survivors.Pclass,y=df_survivors.Age)"
   ],
   "execution_count": 0,
   "outputs": [
    {
     "output_type": "execute_result",
     "data": {
      "text/plain": [
       "<matplotlib.axes._subplots.AxesSubplot at 0x7fed1e485978>"
      ]
     },
     "metadata": {
      "tags": []
     },
     "execution_count": 81
    },
    {
     "output_type": "display_data",
     "data": {
      "image/png": "[encoded data removed]",
      "text/plain": [
       "<Figure size 1440x720 with 1 Axes>"
      ]
     },
     "metadata": {
      "tags": [],
      "needs_background": "light"
     }
    }
   ]
  },
  {
   "cell_type": "code",
   "metadata": {
    "id": "x0AvH4OCqLmU",
    "colab_type": "code",
    "outputId": "49844575-1229-4dc5-b6b9-86c5c097043c",
    "colab": {
     "base_uri": "https://localhost:8080/",
     "height": 266
    }
   },
   "source": [
    "df_titanic[df_titanic.Age < 1]"
   ],
   "execution_count": 0,
   "outputs": [
    {
     "output_type": "execute_result",
     "data": {
      "text/html": [
       "<div>\n",
       "<style scoped>\n",
       "    .dataframe tbody tr th:only-of-type {\n",
       "        vertical-align: middle;\n",
       "    }\n",
       "\n",
       "    .dataframe tbody tr th {\n",
       "        vertical-align: top;\n",
       "    }\n",
       "\n",
       "    .dataframe thead th {\n",
       "        text-align: right;\n",
       "    }\n",
       "</style>\n",
       "<table border=\"1\" class=\"dataframe\">\n",
       "  <thead>\n",
       "    <tr style=\"text-align: right;\">\n",
       "      <th></th>\n",
       "      <th>Survived</th>\n",
       "      <th>Pclass</th>\n",
       "      <th>Name</th>\n",
       "      <th>Sex</th>\n",
       "      <th>Age</th>\n",
       "      <th>Siblings/Spouses Aboard</th>\n",
       "      <th>Parents/Children Aboard</th>\n",
       "      <th>Fare</th>\n",
       "    </tr>\n",
       "  </thead>\n",
       "  <tbody>\n",
       "    <tr>\n",
       "      <th>77</th>\n",
       "      <td>1</td>\n",
       "      <td>2</td>\n",
       "      <td>Master. Alden Gates Caldwell</td>\n",
       "      <td>male</td>\n",
       "      <td>0.83</td>\n",
       "      <td>0</td>\n",
       "      <td>2</td>\n",
       "      <td>29.0000</td>\n",
       "    </tr>\n",
       "    <tr>\n",
       "      <th>303</th>\n",
       "      <td>1</td>\n",
       "      <td>1</td>\n",
       "      <td>Master. Hudson Trevor Allison</td>\n",
       "      <td>male</td>\n",
       "      <td>0.92</td>\n",
       "      <td>1</td>\n",
       "      <td>2</td>\n",
       "      <td>151.5500</td>\n",
       "    </tr>\n",
       "    <tr>\n",
       "      <th>466</th>\n",
       "      <td>1</td>\n",
       "      <td>3</td>\n",
       "      <td>Miss. Helene Barbara Baclini</td>\n",
       "      <td>female</td>\n",
       "      <td>0.75</td>\n",
       "      <td>2</td>\n",
       "      <td>1</td>\n",
       "      <td>19.2583</td>\n",
       "    </tr>\n",
       "    <tr>\n",
       "      <th>641</th>\n",
       "      <td>1</td>\n",
       "      <td>3</td>\n",
       "      <td>Miss. Eugenie Baclini</td>\n",
       "      <td>female</td>\n",
       "      <td>0.75</td>\n",
       "      <td>2</td>\n",
       "      <td>1</td>\n",
       "      <td>19.2583</td>\n",
       "    </tr>\n",
       "    <tr>\n",
       "      <th>751</th>\n",
       "      <td>1</td>\n",
       "      <td>2</td>\n",
       "      <td>Master. Viljo Hamalainen</td>\n",
       "      <td>male</td>\n",
       "      <td>0.67</td>\n",
       "      <td>1</td>\n",
       "      <td>1</td>\n",
       "      <td>14.5000</td>\n",
       "    </tr>\n",
       "    <tr>\n",
       "      <th>799</th>\n",
       "      <td>1</td>\n",
       "      <td>3</td>\n",
       "      <td>Master. Assad Alexander Thomas</td>\n",
       "      <td>male</td>\n",
       "      <td>0.42</td>\n",
       "      <td>0</td>\n",
       "      <td>1</td>\n",
       "      <td>8.5167</td>\n",
       "    </tr>\n",
       "    <tr>\n",
       "      <th>827</th>\n",
       "      <td>1</td>\n",
       "      <td>2</td>\n",
       "      <td>Master. George Sibley Richards</td>\n",
       "      <td>male</td>\n",
       "      <td>0.83</td>\n",
       "      <td>1</td>\n",
       "      <td>1</td>\n",
       "      <td>18.7500</td>\n",
       "    </tr>\n",
       "  </tbody>\n",
       "</table>\n",
       "</div>"
      ],
      "text/plain": [
       "     Survived  Pclass  ... Parents/Children Aboard      Fare\n",
       "77          1       2  ...                       2   29.0000\n",
       "303         1       1  ...                       2  151.5500\n",
       "466         1       3  ...                       1   19.2583\n",
       "641         1       3  ...                       1   19.2583\n",
       "751         1       2  ...                       1   14.5000\n",
       "799         1       3  ...                       1    8.5167\n",
       "827         1       2  ...                       1   18.7500\n",
       "\n",
       "[7 rows x 8 columns]"
      ]
     },
     "metadata": {
      "tags": []
     },
     "execution_count": 75
    }
   ]
  }
 ]
}