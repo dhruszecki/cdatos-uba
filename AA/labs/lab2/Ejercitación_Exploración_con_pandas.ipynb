{
 "nbformat": 4,
 "nbformat_minor": 0,
 "metadata": {
  "colab": {
   "name": "Ejercitación Exploración con pandas.ipynb",
   "provenance": [],
   "collapsed_sections": []
  },
  "kernelspec": {
   "name": "python3",
   "language": "python",
   "display_name": "Python 3"
  }
 },
 "cells": [
  {
   "cell_type": "markdown",
   "metadata": {
    "id": "IkUHyVdnhp-o",
    "colab_type": "text"
   },
   "source": [
    "\n",
    "# Covid-19: comparación entre paises \n",
    "\n",
    "Datos actualizados a diario tomados desde: [CSSEGISandData / COVID-19](https://github.com/CSSEGISandData/COVID-19/tree/master/csse_covid_19_data)\n",
    "\n",
    "La idea es hacer algo del estilo [herokuapp](https://covid-19-raffg.herokuapp.com/)\n",
    "\n",
    "## Recuperar datos desde el sitio mencionado:\n",
    "\n",
    "[Casos confirmados covid19](https://raw.githubusercontent.com/CSSEGISandData/COVID-19/master/csse_covid_19_data/csse_covid_19_time_series/time_series_covid19_confirmed_global.csv)\n",
    "[Muertes covid19](https://raw.githubusercontent.com/CSSEGISandData/COVID-19/master/csse_covid_19_data/csse_covid_19_time_series/time_series_covid19_deaths_global.csv)\n",
    "[Casos recuperados covid19](https://raw.githubusercontent.com/CSSEGISandData/COVID-19/master/csse_covid_19_data/csse_covid_19_time_series/time_series_covid19_recovered_global.csv)"
   ]
  },
  {
   "cell_type": "code",
   "execution_count": 4,
   "outputs": [
    {
     "ename": "AttributeError",
     "evalue": "'DataFrame' object has no attribute 'show'",
     "output_type": "error",
     "traceback": [
      "\u001B[0;31m---------------------------------------------------------------------------\u001B[0m",
      "\u001B[0;31mAttributeError\u001B[0m                            Traceback (most recent call last)",
      "\u001B[0;32m<ipython-input-4-e354bff3b609>\u001B[0m in \u001B[0;36m<module>\u001B[0;34m\u001B[0m\n\u001B[1;32m      8\u001B[0m \u001B[0mconfirmed\u001B[0m\u001B[0;34m.\u001B[0m\u001B[0mhead\u001B[0m\u001B[0;34m(\u001B[0m\u001B[0;34m)\u001B[0m\u001B[0;34m\u001B[0m\u001B[0;34m\u001B[0m\u001B[0m\n\u001B[1;32m      9\u001B[0m \u001B[0mdeaths\u001B[0m\u001B[0;34m.\u001B[0m\u001B[0mhead\u001B[0m\u001B[0;34m(\u001B[0m\u001B[0;34m)\u001B[0m\u001B[0;34m\u001B[0m\u001B[0;34m\u001B[0m\u001B[0m\n\u001B[0;32m---> 10\u001B[0;31m \u001B[0mrecovered\u001B[0m\u001B[0;34m.\u001B[0m\u001B[0mshow\u001B[0m\u001B[0;34m(\u001B[0m\u001B[0;34m)\u001B[0m\u001B[0;34m\u001B[0m\u001B[0;34m\u001B[0m\u001B[0m\n\u001B[0m\u001B[1;32m     11\u001B[0m \u001B[0;34m\u001B[0m\u001B[0m\n\u001B[1;32m     12\u001B[0m \u001B[0;34m\u001B[0m\u001B[0m\n",
      "\u001B[0;32m~/anaconda3/lib/python3.7/site-packages/pandas/core/generic.py\u001B[0m in \u001B[0;36m__getattr__\u001B[0;34m(self, name)\u001B[0m\n\u001B[1;32m   5272\u001B[0m             \u001B[0;32mif\u001B[0m \u001B[0mself\u001B[0m\u001B[0;34m.\u001B[0m\u001B[0m_info_axis\u001B[0m\u001B[0;34m.\u001B[0m\u001B[0m_can_hold_identifiers_and_holds_name\u001B[0m\u001B[0;34m(\u001B[0m\u001B[0mname\u001B[0m\u001B[0;34m)\u001B[0m\u001B[0;34m:\u001B[0m\u001B[0;34m\u001B[0m\u001B[0;34m\u001B[0m\u001B[0m\n\u001B[1;32m   5273\u001B[0m                 \u001B[0;32mreturn\u001B[0m \u001B[0mself\u001B[0m\u001B[0;34m[\u001B[0m\u001B[0mname\u001B[0m\u001B[0;34m]\u001B[0m\u001B[0;34m\u001B[0m\u001B[0;34m\u001B[0m\u001B[0m\n\u001B[0;32m-> 5274\u001B[0;31m             \u001B[0;32mreturn\u001B[0m \u001B[0mobject\u001B[0m\u001B[0;34m.\u001B[0m\u001B[0m__getattribute__\u001B[0m\u001B[0;34m(\u001B[0m\u001B[0mself\u001B[0m\u001B[0;34m,\u001B[0m \u001B[0mname\u001B[0m\u001B[0;34m)\u001B[0m\u001B[0;34m\u001B[0m\u001B[0;34m\u001B[0m\u001B[0m\n\u001B[0m\u001B[1;32m   5275\u001B[0m \u001B[0;34m\u001B[0m\u001B[0m\n\u001B[1;32m   5276\u001B[0m     \u001B[0;32mdef\u001B[0m \u001B[0m__setattr__\u001B[0m\u001B[0;34m(\u001B[0m\u001B[0mself\u001B[0m\u001B[0;34m,\u001B[0m \u001B[0mname\u001B[0m\u001B[0;34m:\u001B[0m \u001B[0mstr\u001B[0m\u001B[0;34m,\u001B[0m \u001B[0mvalue\u001B[0m\u001B[0;34m)\u001B[0m \u001B[0;34m->\u001B[0m \u001B[0;32mNone\u001B[0m\u001B[0;34m:\u001B[0m\u001B[0;34m\u001B[0m\u001B[0;34m\u001B[0m\u001B[0m\n",
      "\u001B[0;31mAttributeError\u001B[0m: 'DataFrame' object has no attribute 'show'"
     ]
    }
   ],
   "source": [
    "import io\n",
    "import pandas as pd\n",
    "\n",
    "confirmed = pd.read_csv(\"https://raw.githubusercontent.com/CSSEGISandData/COVID-19/master/csse_covid_19_data/csse_covid_19_time_series/time_series_covid19_confirmed_global.csv\")\n",
    "deaths = pd.read_csv(\"https://raw.githubusercontent.com/CSSEGISandData/COVID-19/master/csse_covid_19_data/csse_covid_19_time_series/time_series_covid19_deaths_global.csv\")\n",
    "recovered = pd.read_csv(\"https://raw.githubusercontent.com/CSSEGISandData/COVID-19/master/csse_covid_19_data/csse_covid_19_time_series/time_series_covid19_recovered_global.csv\")\n",
    "\n",
    "confirmed.head()\n",
    "deaths.head()\n",
    "recovered.show()\n",
    "\n",
    "\n",
    "\n",
    "\n"
   ],
   "metadata": {
    "collapsed": false,
    "pycharm": {
     "name": "#%%\n"
    }
   }
  },
  {
   "cell_type": "markdown",
   "source": [
    "##Incorporar a un data frame de pandas los casos confirmados\n",
    "##Agrupo por pais porque hay varias filas para un mismo pais y saco columnas que no sirven\n",
    "##usar drop axis=1 y groupby por pais\n",
    "\n",
    "#import pandas as pd\n",
    "#df_covid_c = ?\n",
    "\n",
    "## Mostrar qué información existe y en qué formato\n",
    "\n",
    "#df_covid_c.describe()"
   ],
   "metadata": {
    "collapsed": false,
    "pycharm": {
     "name": "#%% md\n"
    }
   }
  },
  {
   "cell_type": "code",
   "metadata": {
    "id": "ntAGeWjEUpfI",
    "colab_type": "code",
    "colab": {}
   },
   "source": [
    "##Ver cómo visualizar un boxplot con los últimos tres días disponibles para los confirmados\n",
    "##df_covid.boxplot(?)"
   ],
   "execution_count": 0,
   "outputs": []
  },
  {
   "cell_type": "code",
   "metadata": {
    "id": "QtvA0979XwB4",
    "colab_type": "code",
    "colab": {}
   },
   "source": [
    "##Realizar un gráfico global del útimo día disponible de confirmados ordenado de menor a moyor por nro. de casos\n",
    "##Utilizar sort_values by el último día disponible y graficar\n"
   ],
   "execution_count": 0,
   "outputs": []
  },
  {
   "cell_type": "code",
   "metadata": {
    "id": "jQ8MiXnnoL1j",
    "colab_type": "code",
    "colab": {}
   },
   "source": [
    "##Trasponer los confirmados para que quede paises como columnas y fechas como filas\n",
    "##Usar transpose"
   ],
   "execution_count": 0,
   "outputs": []
  },
  {
   "cell_type": "code",
   "metadata": {
    "id": "VFNidnQzZX_r",
    "colab_type": "code",
    "colab": {}
   },
   "source": [
    "##Mostrar el describe para Argentina y gráfico ordenado por fecha"
   ],
   "execution_count": 0,
   "outputs": []
  },
  {
   "cell_type": "code",
   "metadata": {
    "id": "YJQ9ctiBa0lm",
    "colab_type": "code",
    "colab": {}
   },
   "source": [
    "##Boxplot para Argentina"
   ],
   "execution_count": 0,
   "outputs": []
  },
  {
   "cell_type": "code",
   "metadata": {
    "id": "Jtavj7AwUg2x",
    "colab_type": "code",
    "colab": {}
   },
   "source": [
    "##Considerar para Argentina solo desde el comienzo de la casoso confirmados (t0)\n",
    "##Y repetir para dos paises más\n",
    "##Concatenar los data frame de manera de poder comparar entre ellos tomando como referencia el t0 de cada uno\n",
    "##Para eso ver de agrear una columna Pais como 'Argentina'*cantidadDeCasosArgentina\n",
    "##Filtar por cantidad de casos > 0\n",
    "#df_covid_t0_Argentina=?\n",
    "#df_covid_t0_Spain=?\n",
    "\n",
    "#inidce pais canitdad de casos\n",
    "#1 Argentina 5\n",
    "#2 Argentina\n",
    "#1 Italia "
   ],
   "execution_count": 0,
   "outputs": []
  },
  {
   "cell_type": "code",
   "metadata": {
    "id": "MHb3lT7E7mgW",
    "colab_type": "code",
    "colab": {}
   },
   "source": [
    "##Con Plotly\n",
    "##Unir casos por pais y visualizar curvas por pais de confirmados\n",
    "#import plotly.express as px\n",
    "##Armar data frame con una colmna Pais y otra confimados, un pais debajo del otro\n",
    "#df_confirmados=pd.concat([\n",
    "#    df_covid_t0_Argentina,df_covid_t0_Chile, df_covid_t0_Italia, df_covid_t0_Spain\n",
    "#],ignore_index=True).drop_duplicates().reset_index(drop=True)\n",
    "#fig = px.line(df_confirmados,  y=\"Confirmados\", color='Pais'..... \n"
   ],
   "execution_count": 0,
   "outputs": []
  },
  {
   "cell_type": "code",
   "metadata": {
    "id": "mKnxP5aYWdWy",
    "colab_type": "code",
    "colab": {}
   },
   "source": [
    "#La forma genérica finalmente sería\n",
    "#Analizar y ver si se puede optimizar\n",
    "\n",
    "dfg=pd.DataFrame()\n",
    "df_covid_t0_p={}\n",
    "cp = ['Argentina', 'Chile', 'Spain', 'Italy', 'China', 'Brazil', 'US', 'Australia']\n",
    "#for c in df_covid_t.columns: # Selecciono algunos, porque con todos no se entiende el gráfico\n",
    "for c in cp:\n",
    "  dfp=df_covid_t0[c]\n",
    "  dfp=dfp[dfp>0]\n",
    "  cnp=dfp.count()\n",
    "  colp=[c]*cnp\n",
    "  dfp2=pd.DataFrame(dfp)\n",
    "  dfp2.insert(1, \"Pais\", colp, True)\n",
    "  dfp2.columns=['Confirmados', 'Pais']\n",
    "  dfg=pd.concat([dfg ,dfp2],ignore_index=True).drop_duplicates().reset_index(drop=True)\n",
    "\n",
    "fig = px.line(dfg,  y=\"Confirmados\", color='Pais', title=\"Confirmados por pais (ref.T0)\")\n",
    "fig.show()"
   ],
   "execution_count": 0,
   "outputs": []
  },
  {
   "cell_type": "code",
   "metadata": {
    "id": "Z5VHRCSHf2Yt",
    "colab_type": "code",
    "colab": {}
   },
   "source": [
    "##Mostrar los confirmados a la última fecha disponible\n"
   ],
   "execution_count": 0,
   "outputs": []
  },
  {
   "cell_type": "code",
   "metadata": {
    "id": "9G2PvHbqLgcw",
    "colab_type": "code",
    "colab": {}
   },
   "source": [
    "##Idem anterior para recuperados y muetos\n",
    "##Mostar en un mismo gráfcos confirmados, recuperados y muertos para Argentina\n",
    "##craer dataframe pero ahora con columnas cantidad y estado"
   ],
   "execution_count": 0,
   "outputs": []
  },
  {
   "cell_type": "code",
   "metadata": {
    "id": "yNiHEix7lXPq",
    "colab_type": "code",
    "colab": {}
   },
   "source": [
    "#Utilizanfo geopy realizar mapa de confirmados \n",
    "#Se camnbia el ícono para eso hay que descargar el ícono circle_red \n",
    "rom geopy.geocoders import Nominatim\n",
    "import folium\n",
    "import base64\n",
    "import io\n",
    "\n",
    "mapa = folium.Map(location=(-34.6131516,\t -58.3772316), zoom_start=4)\n",
    "\n",
    "for index,row in dfc.iterrows(): \n",
    "  icon_url = 'https://upload.wikimedia.org/wikipedia/commons/9/9e/WX_circle_red.png'\n",
    "\n",
    "  icon = folium.features.CustomIcon(icon_url,icon_size=(max(row['Confirmados']/10000,5), max(row['Confirmados']/10000, 5)))  # Creating a custom Icon\n",
    "\n",
    "  folium.Marker(location=(row['Lat'],row['Long']),  icon=icon, tooltip=row['Confirmados']).add_to(mapa)\n",
    "\n",
    "display(mapa)\n"
   ],
   "execution_count": 0,
   "outputs": []
  },
  {
   "cell_type": "markdown",
   "metadata": {
    "id": "Ja5bMPXLSelD",
    "colab_type": "text"
   },
   "source": [
    "Más información en:\n",
    "\n",
    "[Predictive Monitoring of COVID-19](https://ddi.sutd.edu.sg/)\n"
   ]
  },
  {
   "cell_type": "code",
   "metadata": {
    "id": "ScYT8uGAa_bJ",
    "colab_type": "code",
    "colab": {}
   },
   "source": [
    "#Exportar a google spreadsheets para poder visulizar en google data studio\n",
    "#!pip install df2gspread\n",
    "import pandas as pd\n",
    "import gspread\n",
    "import df2gspread\n",
    "import oauth2client.service_account  as sa\n",
    "from df2gspread import df2gspread as d2g\n",
    "\n",
    "scope = ['https://spreadsheets.google.com/feeds',\n",
    "         'https://www.googleapis.com/auth/drive']\n",
    "#credentials = sa.ServiceAccountCredentials.from_json_keyfile_name(\n",
    "#    '/content/covid-19-276115-43b7f0b225b3.json', scope)\n",
    "gc = gspread.authorize(credentials)\n",
    "\n",
    "\n",
    "dfg2=dfg\n",
    "dfg2.insert(1, \"Día\", dfg2.index, True)\n",
    "dfg2[\"Confirmados\"]=pd.to_numeric(dfg2[\"Confirmados\"])\n",
    "dfg2[\"Día\"]=pd.to_numeric(dfg2[\"Día\"])\n",
    "\n",
    "spreadsheet_key='1wyiwi0hmEkff-Y4b0w6kXT7CGYndu33MaIiHoZZiVgw'\n",
    "wks_name='Master'\n",
    "#d2g.upload(dfg2, spreadsheet_key, wks_name, credentials=credentials, col_names=True, row_names=True)"
   ],
   "execution_count": 0,
   "outputs": []
  }
 ]
}